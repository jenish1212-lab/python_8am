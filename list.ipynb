{
 "cells": [
  {
   "cell_type": "code",
   "execution_count": 1,
   "id": "2013c464-ca0f-40dd-a54a-35a55a298bc6",
   "metadata": {},
   "outputs": [],
   "source": [
    "#python collections\n",
    "#list\n",
    "#tuple\n",
    "#dict\n",
    "#set"
   ]
  },
  {
   "cell_type": "code",
   "execution_count": 2,
   "id": "7eefef99-e45e-40e2-9f4c-e6eeb5dd296a",
   "metadata": {},
   "outputs": [],
   "source": [
    "#List\n",
    "#- indexing\n",
    "#- multiple and duplicate\n",
    "#- ordered\n",
    "#- mutable"
   ]
  },
  {
   "cell_type": "code",
   "execution_count": 4,
   "id": "4613ce7c-351e-425b-90b2-e10057fbd007",
   "metadata": {},
   "outputs": [
    {
     "name": "stdout",
     "output_type": "stream",
     "text": [
      "[1, 2, 3, 4, 5, 6, 7, 8, 9, 10, 1]\n",
      "['Apple', 'Ball', 'Cat', 'Dog', 'Fish', 'Dog']\n",
      "<class 'list'>\n",
      "<class 'list'>\n"
     ]
    }
   ],
   "source": [
    "a = [1,2,3,4,5,6,7,8,9,10,1]\n",
    "b = ['Apple', 'Ball', 'Cat', 'Dog', 'Fish', 'Dog']\n",
    "print(a)\n",
    "print(b)                                                 #MULTIPLE,DUPLICATE,LIST\n",
    "print(type(a))                                                     \n",
    "print(type(b))"
   ]
  },
  {
   "cell_type": "code",
   "execution_count": 11,
   "id": "d69492e0-d4a6-4b0c-be0a-314e2da71005",
   "metadata": {},
   "outputs": [
    {
     "name": "stdout",
     "output_type": "stream",
     "text": [
      "Apple\n",
      "['Apple', 'Ball', 'Cat']\n",
      "['Apple', 'Cat', 'Fish']\n",
      "Dog\n"
     ]
    }
   ],
   "source": [
    "b = ['Apple', 'Ball', 'Cat', 'Dog', 'Fish', 'Dog']\n",
    "print(b[0])\n",
    "print(b[0:3])\n",
    "print(b[0:6:2])\n",
    "print(b[-1])"
   ]
  },
  {
   "cell_type": "code",
   "execution_count": 14,
   "id": "e0246133-0198-4643-941b-2de72d82806b",
   "metadata": {},
   "outputs": [
    {
     "name": "stdout",
     "output_type": "stream",
     "text": [
      "[1, 2, 3, 3, 4, 5, 6]\n"
     ]
    }
   ],
   "source": [
    "a = [1,2,3]\n",
    "b = [3,4,5,6]\n",
    "c = a+b                  #concatenation \n",
    "print(c)"
   ]
  },
  {
   "cell_type": "code",
   "execution_count": 15,
   "id": "bf35cbca-671f-4822-be34-d9a2991d877d",
   "metadata": {},
   "outputs": [
    {
     "name": "stdout",
     "output_type": "stream",
     "text": [
      "['Hello', 'World', 'Hello', 'World']\n"
     ]
    }
   ],
   "source": [
    "a = ['Hello','World']\n",
    "print(a*2)"
   ]
  },
  {
   "cell_type": "code",
   "execution_count": 16,
   "id": "a698b7c7-e936-4181-9be4-32a16c9d8a8a",
   "metadata": {},
   "outputs": [
    {
     "name": "stdout",
     "output_type": "stream",
     "text": [
      "Apple\n",
      "Ball\n",
      "Cat\n"
     ]
    }
   ],
   "source": [
    "b = ['Apple', 'Ball', 'Cat']\n",
    "for i in b:\n",
    "    print(i)"
   ]
  },
  {
   "cell_type": "code",
   "execution_count": 19,
   "id": "19da21a9-ac85-40ff-9972-e2aece878cc3",
   "metadata": {},
   "outputs": [
    {
     "name": "stdin",
     "output_type": "stream",
     "text": [
      "Enter n = 3\n",
      "Enter x =  10\n",
      "Enter x =  20\n",
      "Enter x =  30\n"
     ]
    },
    {
     "name": "stdout",
     "output_type": "stream",
     "text": [
      "[10, 20, 30]\n"
     ]
    }
   ],
   "source": [
    "l = []\n",
    "n = int(input('Enter n ='))\n",
    "for i in range(n):\n",
    "    x = int(input('Enter x = '))\n",
    "    l = l + [x]\n",
    "\n",
    "print(l)"
   ]
  },
  {
   "cell_type": "code",
   "execution_count": 22,
   "id": "241567d4-aa5b-4cf5-a2e1-f8dd8b5a3743",
   "metadata": {},
   "outputs": [
    {
     "name": "stdout",
     "output_type": "stream",
     "text": [
      "Min value =  10\n",
      "Max value =  30\n",
      "Sum of value =  60\n",
      "[10, 20, 30]\n",
      "[30, 20, 10]\n"
     ]
    }
   ],
   "source": [
    "print('Min value = ', min(l))\n",
    "print('Max value = ', max(l))\n",
    "print('Sum of value = ', sum(l))\n",
    "l.sort()                                     #ascending order\n",
    "print(l)\n",
    "l.reverse()                                  #descending order\n",
    "print(l)\n"
   ]
  },
  {
   "cell_type": "code",
   "execution_count": 25,
   "id": "3fcae54e-ff89-460d-9c76-81e5dffb5f5b",
   "metadata": {},
   "outputs": [
    {
     "name": "stdout",
     "output_type": "stream",
     "text": [
      "['Gin', 'Rum', 'Vodka', 'Whisky']\n",
      "['Whisky', 'Vodka', 'Rum', 'Gin']\n"
     ]
    }
   ],
   "source": [
    "a = ['Rum', 'Gin','Whisky','Vodka']\n",
    "a.sort()\n",
    "print(a)\n",
    "a.reverse()\n",
    "print(a)"
   ]
  },
  {
   "cell_type": "code",
   "execution_count": 26,
   "id": "263e258d-1503-4c88-b336-651728e4fc65",
   "metadata": {},
   "outputs": [],
   "source": [
    "#CRUD operation\n",
    "# c = create\n",
    "# r = read\n",
    "# u = update\n",
    "# d = delete"
   ]
  },
  {
   "cell_type": "code",
   "execution_count": 27,
   "id": "d1683293-92e7-40dc-9cb0-36e7c905c421",
   "metadata": {},
   "outputs": [],
   "source": [
    "#CREATE\n",
    "#append()  insert()  extend()"
   ]
  },
  {
   "cell_type": "code",
   "execution_count": 28,
   "id": "fa65e47d-1f36-479b-90d9-d780b443ea0e",
   "metadata": {},
   "outputs": [
    {
     "name": "stdout",
     "output_type": "stream",
     "text": [
      "['Apple', 'Ball', 'Cat']\n"
     ]
    }
   ],
   "source": [
    "l = []\n",
    "l.append('Apple')\n",
    "l.append('Ball')\n",
    "l.append('Cat')\n",
    "print(l)"
   ]
  },
  {
   "cell_type": "code",
   "execution_count": 29,
   "id": "4074a4da-7fca-4693-b4b3-129da00d49fa",
   "metadata": {},
   "outputs": [
    {
     "name": "stdin",
     "output_type": "stream",
     "text": [
      "Enter n = 2\n",
      "Enter x =  12\n",
      "Enter x =  14\n"
     ]
    },
    {
     "name": "stdout",
     "output_type": "stream",
     "text": [
      "[12, 14]\n"
     ]
    }
   ],
   "source": [
    "#append\n",
    "l = []\n",
    "n = int(input('Enter n ='))\n",
    "for i in range(n):\n",
    "    x = int(input('Enter x = '))\n",
    "    l.append(x)\n",
    "\n",
    "print(l)"
   ]
  },
  {
   "cell_type": "code",
   "execution_count": 31,
   "id": "9f9f8a2e-5ca0-4c96-84a3-d0693d4d0442",
   "metadata": {},
   "outputs": [
    {
     "name": "stdout",
     "output_type": "stream",
     "text": [
      "['Rum', 'Beer', 'Gin', 'Whisky', 'Vodka']\n"
     ]
    }
   ],
   "source": [
    "#insert\n",
    "a = ['Rum', 'Gin','Whisky','Vodka']\n",
    "a.insert(1,'Beer')\n",
    "print(a)"
   ]
  },
  {
   "cell_type": "code",
   "execution_count": 32,
   "id": "a78cc03f-9ec1-4e3b-9772-08b7d6b78f21",
   "metadata": {},
   "outputs": [
    {
     "name": "stdout",
     "output_type": "stream",
     "text": [
      "[1, 2, 3, 4, 5, 6, 7, 8, 9]\n"
     ]
    }
   ],
   "source": [
    "#extend\n",
    "a = [1,2,3,4,5]\n",
    "b = [6,7,8,9]\n",
    "a.extend(b)\n",
    "print(a)"
   ]
  },
  {
   "cell_type": "code",
   "execution_count": 33,
   "id": "4d5f5fd4-bb79-4563-9628-98322c7d7e48",
   "metadata": {},
   "outputs": [
    {
     "name": "stdout",
     "output_type": "stream",
     "text": [
      "[6, 7, 8, 9, 1, 2, 3, 4, 5]\n"
     ]
    }
   ],
   "source": [
    "#extend\n",
    "a = [1,2,3,4,5]\n",
    "b = [6,7,8,9]\n",
    "b.extend(a)\n",
    "print(b)"
   ]
  },
  {
   "cell_type": "code",
   "execution_count": 34,
   "id": "07097045-8677-4fa2-b1e5-34ddd43038a2",
   "metadata": {},
   "outputs": [
    {
     "data": {
      "text/plain": [
       "['Cider', 'Gin', 'Whisky', 'Vodka']"
      ]
     },
     "execution_count": 34,
     "metadata": {},
     "output_type": "execute_result"
    }
   ],
   "source": [
    "#update\n",
    "a = ['Rum', 'Gin','Whisky','Vodka']\n",
    "a[0] = 'Cider'\n",
    "a"
   ]
  },
  {
   "cell_type": "code",
   "execution_count": 36,
   "id": "9a5b16a5-7fb9-4edd-a7c6-e2c2a56661cc",
   "metadata": {},
   "outputs": [
    {
     "data": {
      "text/plain": [
       "['Scotch', 'Tequilla', 'Whisky', 'Vodka']"
      ]
     },
     "execution_count": 36,
     "metadata": {},
     "output_type": "execute_result"
    }
   ],
   "source": [
    "a = ['Rum', 'Gin','Whisky','Vodka']\n",
    "a[0:2] = ['Scotch','Tequilla']\n",
    "a"
   ]
  },
  {
   "cell_type": "code",
   "execution_count": 37,
   "id": "3ee12696-5658-443d-8d28-f63452da01e3",
   "metadata": {},
   "outputs": [],
   "source": [
    "#delete\n",
    "#del remove() pop()"
   ]
  },
  {
   "cell_type": "code",
   "execution_count": 40,
   "id": "b7f3b093-e0d7-46b0-b09b-a408fcfd4a22",
   "metadata": {},
   "outputs": [
    {
     "name": "stdout",
     "output_type": "stream",
     "text": [
      "['Whisky', 'Vodka']\n"
     ]
    }
   ],
   "source": [
    "a = ['Rum', 'Gin','Whisky','Vodka']\n",
    "del a[0:2]\n",
    "print(a)"
   ]
  },
  {
   "cell_type": "code",
   "execution_count": 41,
   "id": "4d0f8a3f-3612-4e32-9976-c372d4a3a14a",
   "metadata": {},
   "outputs": [
    {
     "name": "stdout",
     "output_type": "stream",
     "text": [
      "['Rum', 'Whisky', 'Vodka']\n"
     ]
    }
   ],
   "source": [
    "#remove\n",
    "a = ['Rum', 'Gin','Whisky','Vodka']\n",
    "a.remove('Gin')\n",
    "print(a)"
   ]
  },
  {
   "cell_type": "code",
   "execution_count": 44,
   "id": "43ed6bce-67ff-4c63-aa2e-511954446004",
   "metadata": {},
   "outputs": [
    {
     "name": "stdout",
     "output_type": "stream",
     "text": [
      "['Rum', 'Gin', 'Whisky']\n"
     ]
    }
   ],
   "source": [
    "a = ['Rum', 'Gin','Whisky','Vodka']\n",
    "a.pop()\n",
    "print(a)"
   ]
  },
  {
   "cell_type": "code",
   "execution_count": 2,
   "id": "2b7f4dae-8488-4cdc-b20e-1739a107b23e",
   "metadata": {},
   "outputs": [],
   "source": [
    "#nested list (list inside list)"
   ]
  },
  {
   "cell_type": "code",
   "execution_count": 6,
   "id": "84f03812-7cd4-4ec6-9bca-7ce7aca46eb5",
   "metadata": {},
   "outputs": [
    {
     "name": "stdout",
     "output_type": "stream",
     "text": [
      "3\n"
     ]
    }
   ],
   "source": [
    "a = [[1,2,3],[4,5,6],[6,7,8]]\n",
    "print(len(a))\n"
   ]
  },
  {
   "cell_type": "code",
   "execution_count": 9,
   "id": "48802cd1-d308-4031-94d9-6e541b3836cb",
   "metadata": {},
   "outputs": [
    {
     "name": "stdout",
     "output_type": "stream",
     "text": [
      "[['Ram', 34, 'Kathmandu'], ['Shyam', 45, 'Bhaktapur'], ['Hari', 34, 'Lalitpur']]\n"
     ]
    }
   ],
   "source": [
    "a = [['Ram',34,'Kathmandu'],['Shyam',45,'Bhaktapur'],['Hari',34,'Lalitpur']]\n",
    "print(a)\n",
    "    \n"
   ]
  },
  {
   "cell_type": "code",
   "execution_count": 10,
   "id": "6a3bab57-8369-45ea-a656-bc5eab859cde",
   "metadata": {},
   "outputs": [
    {
     "name": "stdin",
     "output_type": "stream",
     "text": [
      "Enter n =  3\n",
      "Enter name =  Ramesh\n",
      "Enter age =  55\n",
      "Enter add =  Lalitpur\n",
      "Enter name =  Ganesh\n",
      "Enter age =  45\n",
      "Enter add =  Kavre\n",
      "Enter name =  Bhuwan\n",
      "Enter age =  61\n",
      "Enter add =  Kathmandu\n"
     ]
    },
    {
     "name": "stdout",
     "output_type": "stream",
     "text": [
      "[['Ramesh', 55, 'Lalitpur'], ['Ganesh', 45, 'Kavre'], ['Bhuwan', 61, 'Kathmandu']]\n"
     ]
    }
   ],
   "source": [
    "data = []\n",
    "n = int(input('Enter n = '))\n",
    "for i in range(n):\n",
    "    name = input('Enter name = ')\n",
    "    age = int(input('Enter age = '))\n",
    "    add = input('Enter add = ')\n",
    "    x = [name,age,add]\n",
    "    data.append(x)\n",
    "\n",
    "print(data)"
   ]
  },
  {
   "cell_type": "code",
   "execution_count": 15,
   "id": "38eea38c-4238-435a-8ae1-934d493d8507",
   "metadata": {},
   "outputs": [
    {
     "name": "stdout",
     "output_type": "stream",
     "text": [
      "['Ram', 34, 'Kathmandu']\n",
      "34\n",
      "[['Ram', 34, 'Kathmandu'], ['Shyam', 45, 'Bhaktapur'], ['Hari', 34, 'Lalitpur'], ['Sujan', 33, 'Janakpur']]\n"
     ]
    }
   ],
   "source": [
    "#indexing\n",
    "a = [['Ram',34,'Kathmandu'],['Shyam',45,'Bhaktapur'],['Hari',34,'Lalitpur']]\n",
    "print(a[0])\n",
    "print(a[0][1])\n",
    "a.append(['Sujan',33,'Janakpur'])\n",
    "print(a)"
   ]
  },
  {
   "cell_type": "code",
   "execution_count": 16,
   "id": "3fabd2db-3669-4914-9b1d-ed6a00eb35b5",
   "metadata": {},
   "outputs": [
    {
     "name": "stdout",
     "output_type": "stream",
     "text": [
      "['Ram', 34, 'Kathmandu']\n",
      "['Shyam', 45, 'Bhaktapur']\n",
      "['Hari', 34, 'Lalitpur']\n",
      "['Sujan', 33, 'Janakpur']\n"
     ]
    }
   ],
   "source": [
    "for i in a:\n",
    "    print(i)"
   ]
  },
  {
   "cell_type": "code",
   "execution_count": 17,
   "id": "d6717b17-fde7-42a8-9d0b-bfbe10d2d289",
   "metadata": {},
   "outputs": [
    {
     "name": "stdout",
     "output_type": "stream",
     "text": [
      "[['Ram Prasad', 34, 'Kathmandu'], ['Shyam', 45, 'Bhaktapur'], ['Hari', 34, 'Lalitpur']]\n"
     ]
    }
   ],
   "source": [
    "#UPDATE\n",
    "a = [['Ram',34,'Kathmandu'],['Shyam',45,'Bhaktapur'],['Hari',34,'Lalitpur']]\n",
    "a[0][0] = 'Ram Prasad'\n",
    "print(a)"
   ]
  },
  {
   "cell_type": "code",
   "execution_count": 25,
   "id": "ec7a4671-b0c5-4460-8a5d-b81408673d9b",
   "metadata": {},
   "outputs": [
    {
     "name": "stdout",
     "output_type": "stream",
     "text": [
      "[['Ram', 34, 'Kathmandu'], ['Shyam', 45], ['Hari', 34, 'Lalitpur']]\n"
     ]
    }
   ],
   "source": [
    "a = [['Ram',34,'Kathmandu'],['Shyam',45,'Bhaktapur'],['Hari',34,'Lalitpur']]\n",
    "\n",
    "del a[1][2]\n",
    "print(a)"
   ]
  },
  {
   "cell_type": "code",
   "execution_count": 31,
   "id": "5429c48b-685b-4d57-8e92-35f78fed924e",
   "metadata": {},
   "outputs": [
    {
     "name": "stdin",
     "output_type": "stream",
     "text": [
      "Enter name =  Ram\n"
     ]
    },
    {
     "name": "stdout",
     "output_type": "stream",
     "text": [
      "YES\n",
      "1\n"
     ]
    }
   ],
   "source": [
    "#search in list\n",
    "a = ['Ram','Shyam','Hari','Sita','Ramesh','Sita']\n",
    "search = input('Enter name = ')\n",
    "if 'Ram' in a:\n",
    "    print('YES')\n",
    "    print(a.count(search))\n",
    "else:\n",
    "    print('NO')\n",
    "    "
   ]
  },
  {
   "cell_type": "code",
   "execution_count": 40,
   "id": "bb333ebc-d199-4622-9202-0cf534c57040",
   "metadata": {},
   "outputs": [
    {
     "name": "stdin",
     "output_type": "stream",
     "text": [
      "Enter name =  Ram\n"
     ]
    },
    {
     "name": "stdout",
     "output_type": "stream",
     "text": [
      "['Ram', 34, 'Kathmandu']\n",
      "1\n"
     ]
    }
   ],
   "source": [
    "#search in list inside list\n",
    "c = 0\n",
    "a = [['Ram', 34, 'Kathmandu'], ['Shyam', 45], ['Hari', 34, 'Lalitpur']]\n",
    "search = input('Enter name = ')     \n",
    "for i in a:\n",
    "    if search in i:\n",
    "        print(i)\n",
    "        c = c+1\n",
    "print(c)"
   ]
  },
  {
   "cell_type": "code",
   "execution_count": 43,
   "id": "6b50548c-4856-4141-a4e0-923ea9fd2a49",
   "metadata": {},
   "outputs": [
    {
     "name": "stdin",
     "output_type": "stream",
     "text": [
      "Enter name =  Ram\n"
     ]
    },
    {
     "name": "stdout",
     "output_type": "stream",
     "text": [
      "0\n",
      "2\n",
      "4\n"
     ]
    }
   ],
   "source": [
    "a = [['Ram', 34, 'Kathmandu'], ['Shyam', 45, 'Bhaktapur'], ['Ram',20,'Chitwan'], ['Hari', 34, 'Lalitpur'], ['Ram',20,'Chitwan']]\n",
    "l = len(a)\n",
    "search = input('Enter name = ')\n",
    "for i in range(l):\n",
    "    if search in a[i]:\n",
    "        print(i)\n",
    "        \n"
   ]
  },
  {
   "cell_type": "code",
   "execution_count": 8,
   "id": "15257ec0-b288-431b-acc0-3f5b65b8ba61",
   "metadata": {},
   "outputs": [
    {
     "name": "stdin",
     "output_type": "stream",
     "text": [
      "Enter name =  Ram\n"
     ]
    },
    {
     "name": "stdout",
     "output_type": "stream",
     "text": [
      "[['Shyam', 45, 'Bhaktapur'], ['Hari', 34, 'Lalitpur']]\n"
     ]
    }
   ],
   "source": [
    "a = [['Ram', 34, 'Kathmandu'], ['Shyam', 45, 'Bhaktapur'], ['Ram',20,'Chitwan'], ['Hari', 34, 'Lalitpur'], ['Ram',20,'Chitwan']]\n",
    "search = input('Enter name = ')\n",
    "for i in a:\n",
    "    if search in i:\n",
    "        a.remove(i)\n",
    "\n",
    "\n",
    "\n",
    "print(a)"
   ]
  },
  {
   "cell_type": "code",
   "execution_count": 10,
   "id": "0048c527-6a41-45c9-9e3c-227c68a69be1",
   "metadata": {},
   "outputs": [
    {
     "name": "stdin",
     "output_type": "stream",
     "text": [
      "Enter name =  Ram\n"
     ]
    },
    {
     "name": "stdout",
     "output_type": "stream",
     "text": [
      "[['Shyam', 45, 'Bhaktapur'], ['Hari', 34, 'Lalitpur']]\n"
     ]
    }
   ],
   "source": [
    "b = []\n",
    "a = [['Ram', 34, 'Kathmandu'], ['Shyam', 45, 'Bhaktapur'], ['Ram',20,'Chitwan'], ['Hari', 34, 'Lalitpur'], ['Ram',20,'Chitwan'], ['Ram',20,'Chitwan']]\n",
    "search = input('Enter name = ')\n",
    "for i in a:\n",
    "    if search != i[0]:\n",
    "        b.append(i)\n",
    "print(b)\n",
    "    "
   ]
  },
  {
   "cell_type": "code",
   "execution_count": null,
   "id": "ce69404e-f85a-48b4-a670-3edfdd0387b4",
   "metadata": {},
   "outputs": [],
   "source": []
  }
 ],
 "metadata": {
  "kernelspec": {
   "display_name": "Python [conda env:base] *",
   "language": "python",
   "name": "conda-base-py"
  },
  "language_info": {
   "codemirror_mode": {
    "name": "ipython",
    "version": 3
   },
   "file_extension": ".py",
   "mimetype": "text/x-python",
   "name": "python",
   "nbconvert_exporter": "python",
   "pygments_lexer": "ipython3",
   "version": "3.12.7"
  }
 },
 "nbformat": 4,
 "nbformat_minor": 5
}
