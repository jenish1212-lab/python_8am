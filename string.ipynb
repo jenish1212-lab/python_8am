{
 "cells": [
  {
   "cell_type": "code",
   "execution_count": 1,
   "id": "694f86a3-7dec-4ba2-a38e-c6f65e0f0e27",
   "metadata": {},
   "outputs": [
    {
     "name": "stdout",
     "output_type": "stream",
     "text": [
      "<class 'str'>\n",
      "<class 'str'>\n",
      "<class 'str'>\n"
     ]
    }
   ],
   "source": [
    "# string\n",
    "\n",
    "a = 'Hello World'\n",
    "b = \"Hello World\"\n",
    "c = '''Hello World'''\n",
    "print(type(a))\n",
    "print(type(b))\n",
    "print(type(c))"
   ]
  },
  {
   "cell_type": "code",
   "execution_count": 2,
   "id": "3ee95769-7c0b-4c57-9ba6-3b67542ec456",
   "metadata": {},
   "outputs": [
    {
     "name": "stdin",
     "output_type": "stream",
     "text": [
      "Enter a =  fish\n"
     ]
    },
    {
     "name": "stdout",
     "output_type": "stream",
     "text": [
      "<class 'str'>\n"
     ]
    }
   ],
   "source": [
    "a = input('Enter a = ')\n",
    "print(type(a))"
   ]
  },
  {
   "cell_type": "code",
   "execution_count": 3,
   "id": "a1ed241c-9134-4ea5-a020-924e58f9b14e",
   "metadata": {},
   "outputs": [
    {
     "name": "stdout",
     "output_type": "stream",
     "text": [
      "Hello World\n"
     ]
    }
   ],
   "source": [
    "a = 'Hello '     #CONCATINATION \n",
    "b = 'World'\n",
    "c = a + b\n",
    "print(c)"
   ]
  },
  {
   "cell_type": "code",
   "execution_count": 6,
   "id": "63410a27-8fd9-4256-af8e-15a369fc0235",
   "metadata": {},
   "outputs": [
    {
     "name": "stdout",
     "output_type": "stream",
     "text": [
      "Hello World Hello World \n"
     ]
    }
   ],
   "source": [
    "a = 'Hello World '          \n",
    "print(a*2)             #ENLARGEMENT"
   ]
  },
  {
   "cell_type": "code",
   "execution_count": 10,
   "id": "4a8048bf-3422-44b9-885a-a4f3c4ab9284",
   "metadata": {},
   "outputs": [
    {
     "name": "stdout",
     "output_type": "stream",
     "text": [
      "H\n",
      "Hello\n",
      "HloWr\n"
     ]
    }
   ],
   "source": [
    "a = 'Hello World'\n",
    "print(a[0])          #INDEXING\n",
    "print(a[0:5])        #SLICING\n",
    "print(a[0:10:2])     #INCREMENT"
   ]
  },
  {
   "cell_type": "code",
   "execution_count": 14,
   "id": "a239cd7e-a9fd-4571-ad23-589a896e620c",
   "metadata": {},
   "outputs": [
    {
     "name": "stdout",
     "output_type": "stream",
     "text": [
      "11\n",
      "H\n",
      "e\n",
      "l\n",
      "l\n",
      "o\n",
      " \n",
      "W\n",
      "o\n",
      "r\n",
      "l\n",
      "d\n"
     ]
    }
   ],
   "source": [
    "a = 'Hello World'\n",
    "l = len(a)\n",
    "print(l)\n",
    "for i in range(l):\n",
    "    print(a[i])"
   ]
  },
  {
   "cell_type": "code",
   "execution_count": 1,
   "id": "c76f5d52-ed20-49fe-ae29-7bfcb782f6dd",
   "metadata": {},
   "outputs": [
    {
     "name": "stdout",
     "output_type": "stream",
     "text": [
      "H\n",
      "e\n",
      "l\n",
      "l\n",
      "o\n",
      " \n",
      "W\n",
      "o\n",
      "r\n",
      "l\n",
      "d\n"
     ]
    }
   ],
   "source": [
    "a = 'Hello World'\n",
    "l = len(a)\n",
    "i = 0\n",
    "while i<l:\n",
    "    print(a[i])\n",
    "    i = i + 1"
   ]
  },
  {
   "cell_type": "code",
   "execution_count": 6,
   "id": "1fe6e0e4-4bb4-4506-9d13-0eb71e243b41",
   "metadata": {},
   "outputs": [
    {
     "name": "stdin",
     "output_type": "stream",
     "text": [
      "Enter name =  Jenish\n",
      "Enter age =  24\n",
      "Enter add =  Panauti\n"
     ]
    },
    {
     "name": "stdout",
     "output_type": "stream",
     "text": [
      "Hello world I am Jenish, I am from Panauti. I am 24 years old\n"
     ]
    }
   ],
   "source": [
    "#string\n",
    "name = input('Enter name = ')\n",
    "age = int(input('Enter age = '))\n",
    "add = input('Enter add = ')\n",
    "\n",
    "info = 'Hello world I am ' + name + ', ' + 'I am from ' + add + '. ' + 'I am ' + str(age) + ' years old'\n",
    "print(info)"
   ]
  },
  {
   "cell_type": "code",
   "execution_count": 2,
   "id": "d8c5b1fd-90f4-4b4b-b36e-2cd73fe18ace",
   "metadata": {},
   "outputs": [
    {
     "name": "stdin",
     "output_type": "stream",
     "text": [
      "Enter name =  Ganesh\n",
      "Enter age =  5000\n",
      "Enter add =  Himalayas\n"
     ]
    },
    {
     "name": "stdout",
     "output_type": "stream",
     "text": [
      "Hello world I am Ganesh. I am from Himalayas. I am 5000 years old\n"
     ]
    }
   ],
   "source": [
    "#string formatting\n",
    "name = input('Enter name = ')\n",
    "age = int(input('Enter age = '))\n",
    "add = input('Enter add = ')\n",
    "\n",
    "info = f'Hello world I am {name}. I am from {add}. I am {age} years old'     #f for formatting, no data conversion need \n",
    "print(info)"
   ]
  },
  {
   "cell_type": "code",
   "execution_count": 3,
   "id": "e768b36c-4bd3-4266-9468-2c9d33234e2f",
   "metadata": {},
   "outputs": [
    {
     "name": "stdin",
     "output_type": "stream",
     "text": [
      "Enter n =  2\n",
      "Enter name =  Shyam\n",
      "Enter phone =  2432\n",
      "Enter name =  Ghanshyam\n",
      "Enter phone =  2433\n"
     ]
    },
    {
     "name": "stdout",
     "output_type": "stream",
     "text": [
      "Shyam 2432 \n",
      "Ghanshyam 2433 \n",
      "\n"
     ]
    }
   ],
   "source": [
    "s = ''\n",
    "n = int(input('Enter n = '))\n",
    "for i in range(n):\n",
    "    name = input('Enter name = ')\n",
    "    phone = int(input('Enter phone = '))\n",
    "    s = s + f'{name} {phone} \\n'\n",
    "\n",
    "print(s)"
   ]
  },
  {
   "cell_type": "code",
   "execution_count": 12,
   "id": "0d179e0c-ddee-4b0a-8075-112eb4016e37",
   "metadata": {},
   "outputs": [
    {
     "name": "stdin",
     "output_type": "stream",
     "text": [
      "Enter value for search ram\n"
     ]
    },
    {
     "name": "stdout",
     "output_type": "stream",
     "text": [
      "Yes\n",
      "2\n"
     ]
    }
   ],
   "source": [
    "#search in string & count\n",
    "\n",
    "a = 'Ram Shyam Hari Gita Rita Sita Nabin Ram'.lower()\n",
    "search = input('Enter value for search').lower()\n",
    "if search in a:\n",
    "    print('Yes')\n",
    "    print(a.count(search))\n",
    "\n",
    "else:\n",
    "    print('No')\n",
    "    "
   ]
  },
  {
   "cell_type": "code",
   "execution_count": 11,
   "id": "ea3cbbca-0525-4b00-9dee-52e280963a76",
   "metadata": {},
   "outputs": [
    {
     "name": "stdout",
     "output_type": "stream",
     "text": [
      "RAM SHYAM HARI GITA RITA SITA NABIN RAM\n",
      "ram shyam hari gita rita sita nabin ram\n"
     ]
    }
   ],
   "source": [
    "#upper & lower\n",
    "a = 'Ram Shyam Hari Gita Rita Sita Nabin Ram'\n",
    "print(a.upper())\n",
    "print(a.lower())"
   ]
  },
  {
   "cell_type": "code",
   "execution_count": 13,
   "id": "d35d4228-322e-4b72-bef6-d463c4a2e37d",
   "metadata": {},
   "outputs": [
    {
     "name": "stdout",
     "output_type": "stream",
     "text": [
      "hari mari\n",
      "sita\n"
     ]
    }
   ],
   "source": [
    "a = 'hAri MarI'.lower()\n",
    "b = 'sitA'.lower()\n",
    "print(a)\n",
    "print(b)"
   ]
  },
  {
   "cell_type": "code",
   "execution_count": 15,
   "id": "6aa5e052-7302-44e7-8c74-7bd94d6b6404",
   "metadata": {},
   "outputs": [
    {
     "name": "stdout",
     "output_type": "stream",
     "text": [
      "Jivan Shyam Hari Gita Rita Sita Nabin Jivan\n"
     ]
    }
   ],
   "source": [
    "#replace\n",
    "a = 'Ram Shyam Hari Gita Rita Sita Nabin Ram'\n",
    "a = a.replace('Ram','Jivan')\n",
    "print(a)"
   ]
  },
  {
   "cell_type": "code",
   "execution_count": null,
   "id": "c41c5efc-6083-462e-bb8a-022a21a1a1a1",
   "metadata": {},
   "outputs": [],
   "source": []
  }
 ],
 "metadata": {
  "kernelspec": {
   "display_name": "Python [conda env:base] *",
   "language": "python",
   "name": "conda-base-py"
  },
  "language_info": {
   "codemirror_mode": {
    "name": "ipython",
    "version": 3
   },
   "file_extension": ".py",
   "mimetype": "text/x-python",
   "name": "python",
   "nbconvert_exporter": "python",
   "pygments_lexer": "ipython3",
   "version": "3.12.7"
  }
 },
 "nbformat": 4,
 "nbformat_minor": 5
}
