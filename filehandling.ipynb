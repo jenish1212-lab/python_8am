{
 "cells": [
  {
   "cell_type": "code",
   "execution_count": 1,
   "id": "dd69eafe-a58c-4605-b73f-586c0d8684d8",
   "metadata": {},
   "outputs": [],
   "source": [
    "#file handling\n",
    "\n",
    "#file = open('<file_name>', 'mode')\n",
    "#file. close()\n",
    "\n",
    "#with open(<'file_name'>,'mode')as file:\n",
    " #   <operations>\n",
    "\n",
    "#modes\n",
    "#x - create\n",
    "#r - read\n",
    "#a - append\n",
    "#w - write\n"
   ]
  },
  {
   "cell_type": "code",
   "execution_count": 2,
   "id": "4fd30a9e-b475-4447-a25b-292893734769",
   "metadata": {},
   "outputs": [],
   "source": [
    "file = open('data.txt','x')\n",
    "file.close()"
   ]
  },
  {
   "cell_type": "code",
   "execution_count": 3,
   "id": "8a21f467-c76d-477f-91e2-01e27710dcad",
   "metadata": {},
   "outputs": [
    {
     "data": {
      "text/plain": [
       "'C:\\\\Users\\\\admin\\\\Python 8am'"
      ]
     },
     "execution_count": 3,
     "metadata": {},
     "output_type": "execute_result"
    }
   ],
   "source": [
    "pwd"
   ]
  },
  {
   "cell_type": "code",
   "execution_count": 4,
   "id": "9397e041-b5ea-4ea8-89a3-d67c09a4402b",
   "metadata": {},
   "outputs": [
    {
     "name": "stdout",
     "output_type": "stream",
     "text": [
      "1 hello world\n",
      "2 hello world\n",
      "3 hello world\n",
      "4 hello world\n",
      "5 hello world\n",
      "6 hello world\n"
     ]
    }
   ],
   "source": [
    "file = open('data.txt','r')\n",
    "data = file.read()\n",
    "file.close()\n",
    "print(data)"
   ]
  },
  {
   "cell_type": "code",
   "execution_count": 6,
   "id": "6d9af624-2a84-4810-a26f-62f802665ba5",
   "metadata": {},
   "outputs": [
    {
     "data": {
      "text/plain": [
       "['1 hello world',\n",
       " '2 hello world',\n",
       " '3 hello world',\n",
       " '4 hello world',\n",
       " '5 hello world',\n",
       " '6 hello world']"
      ]
     },
     "execution_count": 6,
     "metadata": {},
     "output_type": "execute_result"
    }
   ],
   "source": [
    "data.split('\\n')"
   ]
  },
  {
   "cell_type": "code",
   "execution_count": 7,
   "id": "84c0334a-f6f4-4909-947f-01eb74093751",
   "metadata": {},
   "outputs": [
    {
     "data": {
      "text/plain": [
       "['1 hello world',\n",
       " '2 hello world',\n",
       " '3 hello world',\n",
       " '4 hello world',\n",
       " '5 hello world',\n",
       " '6 hello world']"
      ]
     },
     "execution_count": 7,
     "metadata": {},
     "output_type": "execute_result"
    }
   ],
   "source": [
    "lines = data.split('\\n')\n",
    "lines"
   ]
  },
  {
   "cell_type": "code",
   "execution_count": 8,
   "id": "d3c4d9bf-8fbe-4a35-a27e-a20bd9fcd0b0",
   "metadata": {},
   "outputs": [
    {
     "name": "stdin",
     "output_type": "stream",
     "text": [
      "Enter n =  1\n"
     ]
    },
    {
     "data": {
      "text/plain": [
       "'1 hello world'"
      ]
     },
     "execution_count": 8,
     "metadata": {},
     "output_type": "execute_result"
    }
   ],
   "source": [
    "n = int(input('Enter n = '))\n",
    "lines = data.split('\\n')\n",
    "lines[n - 1]"
   ]
  },
  {
   "cell_type": "code",
   "execution_count": 11,
   "id": "6cd3e543-8826-4259-b5ae-e0515a2f33fd",
   "metadata": {},
   "outputs": [],
   "source": [
    "#write mode\n",
    "file = open('newdata.txt','w')\n",
    "file.write('Jay Nepal')\n",
    "file.close()"
   ]
  },
  {
   "cell_type": "code",
   "execution_count": 13,
   "id": "a25b62bc-a4d4-4f3f-9520-ebb89f194a43",
   "metadata": {},
   "outputs": [
    {
     "name": "stdin",
     "output_type": "stream",
     "text": [
      "enter n =  3\n",
      "product name =  Apple\n",
      "price =  25\n",
      "qty =  8\n",
      "product name =  Banana\n",
      "price =  12\n",
      "qty =  12\n",
      "product name =  Guava\n",
      "price =  45\n",
      "qty =  12\n"
     ]
    },
    {
     "name": "stdout",
     "output_type": "stream",
     "text": [
      "Apple 25 8.0 200.0\n",
      "Banana 12 12.0 144.0\n",
      "Guava 45 12.0 540.0\n",
      "\n"
     ]
    }
   ],
   "source": [
    "bill = ''\n",
    "n = int(input('enter n = '))\n",
    "for i in range(n):\n",
    "    product = input('product name = ')\n",
    "    price = int(input('price = '))\n",
    "    qty = float(input('qty = '))\n",
    "    total = price*qty\n",
    "    x = f'{product} {price} {qty} {total}\\n'\n",
    "    bill = bill + x\n",
    "\n",
    "print(bill)\n",
    "\n",
    "file = open('bill.txt','w')\n",
    "file.write(bill)\n",
    "file.close()\n",
    "    "
   ]
  },
  {
   "cell_type": "code",
   "execution_count": 14,
   "id": "eef5350a-6f85-457f-b79c-36d19627240c",
   "metadata": {},
   "outputs": [
    {
     "name": "stdin",
     "output_type": "stream",
     "text": [
      "enter n =  2\n",
      "product name =  Mango\n",
      "price =  20\n",
      "qty =  5\n",
      "product name =  Litchi\n",
      "price =  50\n",
      "qty =  8\n"
     ]
    },
    {
     "name": "stdout",
     "output_type": "stream",
     "text": [
      "Mango 20 5.0 100.0\n",
      "Litchi 50 8.0 400.0\n",
      "\n"
     ]
    }
   ],
   "source": [
    "bill = ''\n",
    "n = int(input('enter n = '))\n",
    "for i in range(n):\n",
    "    product = input('product name = ')\n",
    "    price = int(input('price = '))\n",
    "    qty = float(input('qty = '))\n",
    "    total = price*qty\n",
    "    x = f'{product} {price} {qty} {total}\\n'\n",
    "    bill = bill + x\n",
    "\n",
    "print(bill)\n",
    "\n",
    "file = open('bill.txt','a')\n",
    "file.write(bill)\n",
    "file.close()\n",
    "    "
   ]
  },
  {
   "cell_type": "code",
   "execution_count": 15,
   "id": "876eb625-7a15-45e6-93c8-a9fca99dd5b5",
   "metadata": {},
   "outputs": [
    {
     "data": {
      "text/plain": [
       "'Apple 25 8.0 200.0\\nBanana 12 12.0 144.0\\nGuava 45 12.0 540.0\\nMango 20 5.0 100.0\\nLitchi 50 8.0 400.0\\n'"
      ]
     },
     "execution_count": 15,
     "metadata": {},
     "output_type": "execute_result"
    }
   ],
   "source": [
    "file = open('bill.txt','r')\n",
    "data = file.read()\n",
    "file.close()\n",
    "data"
   ]
  },
  {
   "cell_type": "code",
   "execution_count": 20,
   "id": "c26e3687-d11c-47f8-8997-618cce314a62",
   "metadata": {},
   "outputs": [
    {
     "name": "stdout",
     "output_type": "stream",
     "text": [
      "['Apple 25 8.0 200.0']\n",
      "['Banana 12 12.0 144.0']\n",
      "['Guava 45 12.0 540.0']\n",
      "['Mango 20 5.0 100.0']\n",
      "['Litchi 50 8.0 400.0']\n"
     ]
    },
    {
     "data": {
      "text/plain": [
       "[['Apple 25 8.0 200.0'],\n",
       " ['Banana 12 12.0 144.0'],\n",
       " ['Guava 45 12.0 540.0'],\n",
       " ['Mango 20 5.0 100.0'],\n",
       " ['Litchi 50 8.0 400.0']]"
      ]
     },
     "execution_count": 20,
     "metadata": {},
     "output_type": "execute_result"
    }
   ],
   "source": [
    "final_list = []\n",
    "data_list = data.split('\\n')[0:-1]\n",
    "for i in data_list:\n",
    "    x = i.split('\\t')\n",
    "    print(x)\n",
    "    final_list.append(x)\n",
    "final_list"
   ]
  },
  {
   "cell_type": "code",
   "execution_count": 22,
   "id": "ef375e07-1457-4661-83be-d609e42c9bc2",
   "metadata": {},
   "outputs": [
    {
     "name": "stdin",
     "output_type": "stream",
     "text": [
      "enter n =  2\n",
      "product name =  Apple\n",
      "price =  30\n",
      "qty =  6\n",
      "product name =  Banana\n",
      "price =  20\n",
      "qty =  12\n"
     ]
    },
    {
     "name": "stdout",
     "output_type": "stream",
     "text": [
      "Apple,30,6.0,180.0\n",
      "Banana,20,12.0,240.0\n",
      "\n"
     ]
    }
   ],
   "source": [
    "bills = ''\n",
    "n = int(input('enter n = '))\n",
    "for i in range(n):\n",
    "    product = input('product name = ')\n",
    "    price = int(input('price = '))\n",
    "    qty = float(input('qty = '))\n",
    "    total = price*qty\n",
    "    x = f'{product},{price},{qty},{total}\\n'             #string formatting\n",
    "    bills = bills + x\n",
    "\n",
    "print(bills)\n",
    "\n",
    "file = open('bills.csv','w')\n",
    "file.write('Product,Price,Qty,Total\\n')\n",
    "file.write(bills)\n",
    "file.close()"
   ]
  },
  {
   "cell_type": "code",
   "execution_count": null,
   "id": "9b159450-b29c-4cfe-a04e-1e7d6806f848",
   "metadata": {},
   "outputs": [],
   "source": []
  }
 ],
 "metadata": {
  "kernelspec": {
   "display_name": "Python [conda env:base] *",
   "language": "python",
   "name": "conda-base-py"
  },
  "language_info": {
   "codemirror_mode": {
    "name": "ipython",
    "version": 3
   },
   "file_extension": ".py",
   "mimetype": "text/x-python",
   "name": "python",
   "nbconvert_exporter": "python",
   "pygments_lexer": "ipython3",
   "version": "3.12.7"
  }
 },
 "nbformat": 4,
 "nbformat_minor": 5
}
