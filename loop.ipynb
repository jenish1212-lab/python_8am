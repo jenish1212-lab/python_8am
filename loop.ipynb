{
 "cells": [
  {
   "cell_type": "code",
   "execution_count": 1,
   "id": "6234617f-f20d-466c-b5e2-b2e389412c5e",
   "metadata": {},
   "outputs": [],
   "source": [
    "# for loop\n",
    "# while loop"
   ]
  },
  {
   "cell_type": "code",
   "execution_count": null,
   "id": "8b11015e-3a08-4d12-bd7c-67aeb0804e60",
   "metadata": {},
   "outputs": [],
   "source": [
    "#for loop\n",
    "range (5)       #0,1,2,3,4\n",
    "range (1, 5)    #1,2,3,4\n",
    "range (1,10,2)  #1,3,5,7,9"
   ]
  },
  {
   "cell_type": "code",
   "execution_count": 3,
   "id": "1add1274-b120-4fa1-a0de-27445799e76c",
   "metadata": {},
   "outputs": [
    {
     "name": "stdout",
     "output_type": "stream",
     "text": [
      "1 ODD\n",
      "3 ODD\n",
      "5 ODD\n",
      "7 ODD\n"
     ]
    }
   ],
   "source": [
    "for i in range(1,8,2):\n",
    "    print(i, 'ODD')"
   ]
  },
  {
   "cell_type": "code",
   "execution_count": 5,
   "id": "193ccf76-85d6-491c-a415-40f79f9812a9",
   "metadata": {},
   "outputs": [
    {
     "name": "stdout",
     "output_type": "stream",
     "text": [
      "8\n",
      "7\n",
      "6\n",
      "5\n",
      "4\n",
      "3\n",
      "2\n",
      "1\n"
     ]
    }
   ],
   "source": [
    "for i in range(8,0,-1):\n",
    "    print(i)"
   ]
  },
  {
   "cell_type": "code",
   "execution_count": 6,
   "id": "fa105f8b-88a2-4959-a4b5-eeaa7c9c7c14",
   "metadata": {},
   "outputs": [],
   "source": [
    "# WAP to create a multiplication table"
   ]
  },
  {
   "cell_type": "code",
   "execution_count": 7,
   "id": "fbbf41ce-a5ad-457f-a313-b897e42d5f61",
   "metadata": {},
   "outputs": [
    {
     "name": "stdin",
     "output_type": "stream",
     "text": [
      "Enter n =  8\n"
     ]
    },
    {
     "name": "stdout",
     "output_type": "stream",
     "text": [
      "8\n",
      "16\n",
      "24\n",
      "32\n",
      "40\n",
      "48\n",
      "56\n",
      "64\n",
      "72\n",
      "80\n"
     ]
    }
   ],
   "source": [
    "n = int(input('Enter n = '))\n",
    "for i in range(1,11):\n",
    "    print(n*i)"
   ]
  },
  {
   "cell_type": "code",
   "execution_count": 8,
   "id": "a014fae1-c226-4d24-bf18-98df9e796b0d",
   "metadata": {},
   "outputs": [
    {
     "name": "stdin",
     "output_type": "stream",
     "text": [
      "Enter n =  7\n"
     ]
    },
    {
     "name": "stdout",
     "output_type": "stream",
     "text": [
      "7 * 1 = 7\n",
      "7 * 2 = 14\n",
      "7 * 3 = 21\n",
      "7 * 4 = 28\n",
      "7 * 5 = 35\n",
      "7 * 6 = 42\n",
      "7 * 7 = 49\n",
      "7 * 8 = 56\n",
      "7 * 9 = 63\n",
      "7 * 10 = 70\n"
     ]
    }
   ],
   "source": [
    "n = int(input('Enter n = '))\n",
    "for i in range(1,11):\n",
    "    print(n,'*',i,'=',n*i)"
   ]
  },
  {
   "cell_type": "code",
   "execution_count": 9,
   "id": "12ff7a85-79eb-4711-b626-1839b6e2d5a5",
   "metadata": {},
   "outputs": [
    {
     "name": "stdin",
     "output_type": "stream",
     "text": [
      "Enter n =  5\n",
      "Enter x =  150\n"
     ]
    },
    {
     "name": "stdout",
     "output_type": "stream",
     "text": [
      "150\n"
     ]
    },
    {
     "name": "stdin",
     "output_type": "stream",
     "text": [
      "Enter x =  300\n"
     ]
    },
    {
     "name": "stdout",
     "output_type": "stream",
     "text": [
      "450\n"
     ]
    },
    {
     "name": "stdin",
     "output_type": "stream",
     "text": [
      "Enter x =  600\n"
     ]
    },
    {
     "name": "stdout",
     "output_type": "stream",
     "text": [
      "1050\n"
     ]
    },
    {
     "name": "stdin",
     "output_type": "stream",
     "text": [
      "Enter x =  1200\n"
     ]
    },
    {
     "name": "stdout",
     "output_type": "stream",
     "text": [
      "2250\n"
     ]
    },
    {
     "name": "stdin",
     "output_type": "stream",
     "text": [
      "Enter x =  2400\n"
     ]
    },
    {
     "name": "stdout",
     "output_type": "stream",
     "text": [
      "4650\n"
     ]
    }
   ],
   "source": [
    "s = 0\n",
    "n = int(input('Enter n = '))\n",
    "for i in range(n):\n",
    "    x = int(input('Enter x = '))\n",
    "    s = s + x\n",
    "    print(s)"
   ]
  },
  {
   "cell_type": "code",
   "execution_count": 11,
   "id": "a22ba306-df42-4d14-9ad3-ca634883acbe",
   "metadata": {},
   "outputs": [
    {
     "name": "stdin",
     "output_type": "stream",
     "text": [
      "Enter n =  5\n",
      "Enter x =  1000\n"
     ]
    },
    {
     "name": "stdout",
     "output_type": "stream",
     "text": [
      "1100.0\n"
     ]
    },
    {
     "name": "stdin",
     "output_type": "stream",
     "text": [
      "Enter x =  1000\n"
     ]
    },
    {
     "name": "stdout",
     "output_type": "stream",
     "text": [
      "2200.0\n"
     ]
    },
    {
     "name": "stdin",
     "output_type": "stream",
     "text": [
      "Enter x =  1000\n"
     ]
    },
    {
     "name": "stdout",
     "output_type": "stream",
     "text": [
      "3300.0\n"
     ]
    },
    {
     "name": "stdin",
     "output_type": "stream",
     "text": [
      "Enter x =  1000\n"
     ]
    },
    {
     "name": "stdout",
     "output_type": "stream",
     "text": [
      "4400.0\n"
     ]
    },
    {
     "name": "stdin",
     "output_type": "stream",
     "text": [
      "Enter x =  1000\n"
     ]
    },
    {
     "name": "stdout",
     "output_type": "stream",
     "text": [
      "5500.0\n"
     ]
    }
   ],
   "source": [
    "s = 0\n",
    "n = int(input('Enter n = '))\n",
    "for i in range(n):\n",
    "        x = int(input('Enter x = '))\n",
    "        s = s + x*1.1\n",
    "        print(s)"
   ]
  },
  {
   "cell_type": "code",
   "execution_count": 14,
   "id": "031ef469-cec7-491a-a6c9-7a65d84da6f8",
   "metadata": {},
   "outputs": [
    {
     "name": "stdin",
     "output_type": "stream",
     "text": [
      "Enter n =  3\n",
      "Enter name =  ram\n",
      "Enter name =  rum\n",
      "Enter name =  rom\n"
     ]
    },
    {
     "name": "stdout",
     "output_type": "stream",
     "text": [
      "ram\n",
      "rum\n",
      "rom\n",
      "\n"
     ]
    }
   ],
   "source": [
    "s = ''\n",
    "n = int(input('Enter n = '))\n",
    "for i in range(n):\n",
    "    name = input('Enter name = ')\n",
    "    s = s + name + '\\n'\n",
    "    \n",
    "print(s)\n",
    "        "
   ]
  },
  {
   "cell_type": "code",
   "execution_count": 8,
   "id": "6f3b483c-5928-4b17-9778-2236328cfdb4",
   "metadata": {},
   "outputs": [
    {
     "name": "stdin",
     "output_type": "stream",
     "text": [
      "Enter n =  5\n"
     ]
    },
    {
     "name": "stdout",
     "output_type": "stream",
     "text": [
      "120\n"
     ]
    }
   ],
   "source": [
    "#WAP to find factorial of a given number\n",
    "# 5! = 1*2*3*4*5\n",
    "\n",
    "s = 1\n",
    "n = int(input('Enter n = '))\n",
    "for i in range(1, n+1):\n",
    "    s = s * i\n",
    "print(s)"
   ]
  },
  {
   "cell_type": "code",
   "execution_count": 5,
   "id": "09fdd209-4c8b-4c07-94d4-560817e3b698",
   "metadata": {},
   "outputs": [
    {
     "name": "stdin",
     "output_type": "stream",
     "text": [
      "Enter n =  5\n"
     ]
    },
    {
     "name": "stdout",
     "output_type": "stream",
     "text": [
      "15\n"
     ]
    }
   ],
   "source": [
    "#WAP to find sum of all values (from 1 to itself)\n",
    "# 5 -> 1+2+3+4+5\n",
    "\n",
    "s = 0\n",
    "n = int(input('Enter n = '))\n",
    "for i in range(1, n+1):\n",
    "    s = s + i\n",
    "print(s)"
   ]
  },
  {
   "cell_type": "code",
   "execution_count": 8,
   "id": "05fcbe0a-dac2-49d6-b142-b1a87223cc77",
   "metadata": {},
   "outputs": [
    {
     "name": "stdin",
     "output_type": "stream",
     "text": [
      "Enter n =  3\n",
      "Enter name =  rom\n",
      "Enter number =  9808\n",
      "Enter name =  dom\n",
      "Enter number =  9707\n",
      "Enter name =  gom\n",
      "Enter number =  9606\n"
     ]
    },
    {
     "name": "stdout",
     "output_type": "stream",
     "text": [
      "rom\t9808\n",
      "dom\t9707\n",
      "gom\t9606\n",
      "\n"
     ]
    }
   ],
   "source": [
    "#WAP to store name and phone number of a given persons\n",
    "\n",
    "s = ''\n",
    "n = int(input('Enter n = '))\n",
    "for i in range(n):\n",
    "    name = input('Enter name = ')\n",
    "    number = input('Enter number = ')\n",
    "    s = s + name + '\\t' + number + '\\n'\n",
    "print(s)"
   ]
  },
  {
   "cell_type": "code",
   "execution_count": 11,
   "id": "31cce921-706c-4ccb-a977-720eaa81bb3b",
   "metadata": {},
   "outputs": [],
   "source": [
    "#WAP to create a billing system\n",
    "# product -> ?\n",
    "# price -> ?\n",
    "# qty -> ?\n",
    "# total -> ?"
   ]
  },
  {
   "cell_type": "code",
   "execution_count": 26,
   "id": "e85ae5d1-710b-4284-8dfe-8b93f47a70d7",
   "metadata": {},
   "outputs": [
    {
     "name": "stdin",
     "output_type": "stream",
     "text": [
      "Enter n =  2\n",
      "Enter product =  Fogg\n",
      "Enter price =  245\n",
      "Enter quantity =  2\n",
      "Enter product =  Chips\n",
      "Enter price =  145\n",
      "Enter quantity =  4\n"
     ]
    },
    {
     "name": "stdout",
     "output_type": "stream",
     "text": [
      "Fogg\t245\t2\t490\n",
      "Chips\t145\t4\t580\n",
      "\n",
      "Total Amount =  1070\n"
     ]
    }
   ],
   "source": [
    "s = ''\n",
    "final_total = 0\n",
    "n = int(input('Enter n = '))\n",
    "for i in range(n):\n",
    "    product = input('Enter product = ')\n",
    "    price = int(input('Enter price = '))\n",
    "    quantity = int(input('Enter quantity = '))\n",
    "    total = price * quantity\n",
    "    x = product + '\\t' + str(price) + '\\t' + str(quantity) + '\\t' + str(total) + '\\n'\n",
    "    s = s + x\n",
    "    final_total = final_total + total\n",
    "\n",
    "\n",
    "print(s)\n",
    "print('Total Amount = ',final_total)\n",
    "    "
   ]
  },
  {
   "cell_type": "code",
   "execution_count": 28,
   "id": "1dfea851-8b57-4e17-a1bd-61344cd022e7",
   "metadata": {},
   "outputs": [],
   "source": [
    "#loop on strings"
   ]
  },
  {
   "cell_type": "code",
   "execution_count": 29,
   "id": "cff1ecbf-71b4-4715-95ae-a34b31c74084",
   "metadata": {},
   "outputs": [
    {
     "name": "stdout",
     "output_type": "stream",
     "text": [
      "H\n",
      "e\n",
      "l\n",
      "l\n",
      "o\n",
      " \n",
      "W\n",
      "o\n",
      "r\n",
      "l\n",
      "d\n"
     ]
    }
   ],
   "source": [
    "a = 'Hello World'\n",
    "for i in a:\n",
    "    print(i)"
   ]
  },
  {
   "cell_type": "code",
   "execution_count": 30,
   "id": "e1d809d0-58a2-460f-ab24-a439f7e24057",
   "metadata": {},
   "outputs": [
    {
     "name": "stdout",
     "output_type": "stream",
     "text": [
      "Hello. Chiya Pilo"
     ]
    }
   ],
   "source": [
    "a = 'Hello. Chiya Pilo'\n",
    "for i in a:\n",
    "    print(i, end = '')"
   ]
  },
  {
   "cell_type": "code",
   "execution_count": 34,
   "id": "6445410e-1bf5-4e81-941c-39de2d897fb6",
   "metadata": {},
   "outputs": [
    {
     "name": "stdout",
     "output_type": "stream",
     "text": [
      "Hello Chiya Pilo"
     ]
    }
   ],
   "source": [
    "a = 'Hello. Chiya Pilo'\n",
    "for i in a:\n",
    "    if i != '.':\n",
    "        print(i, end = '')"
   ]
  },
  {
   "cell_type": "code",
   "execution_count": 36,
   "id": "7bc8c999-bdb8-4c35-bdf7-b82a9d854e73",
   "metadata": {},
   "outputs": [
    {
     "name": "stdout",
     "output_type": "stream",
     "text": [
      "hello world i am python"
     ]
    }
   ],
   "source": [
    "a = 'hello world!. i am python'\n",
    "for i in a:\n",
    "    if (i != '.') and (i != '!'):\n",
    "        print(i, end = '')"
   ]
  },
  {
   "cell_type": "code",
   "execution_count": 1,
   "id": "8be4e5c6-8ec7-44d3-9ccf-65471a145c65",
   "metadata": {},
   "outputs": [],
   "source": [
    "# Control statements\n",
    "#break\n",
    "#continue\n",
    "#pass"
   ]
  },
  {
   "cell_type": "code",
   "execution_count": 4,
   "id": "42193f8b-32d7-4a27-89f1-2fabeb7073f3",
   "metadata": {},
   "outputs": [
    {
     "name": "stdout",
     "output_type": "stream",
     "text": [
      "0\n",
      "1\n",
      "2\n",
      "3\n",
      "4\n"
     ]
    }
   ],
   "source": [
    "a = 5\n",
    "for i in range(10):\n",
    "    if i == a:\n",
    "        break\n",
    "    print(i)"
   ]
  },
  {
   "cell_type": "code",
   "execution_count": 8,
   "id": "f9f36a3d-06e2-4412-82fa-8cae65cf7942",
   "metadata": {},
   "outputs": [
    {
     "name": "stdout",
     "output_type": "stream",
     "text": [
      "0\n",
      "1\n",
      "2\n",
      "3\n",
      "4\n",
      "6\n",
      "7\n",
      "8\n",
      "9\n"
     ]
    }
   ],
   "source": [
    "a = 5\n",
    "for i in range(10):\n",
    "    if i == a:\n",
    "        continue\n",
    "    print(i)"
   ]
  },
  {
   "cell_type": "code",
   "execution_count": 10,
   "id": "cc6db856-158a-4130-8fb3-7d6ecd2bd1cb",
   "metadata": {},
   "outputs": [
    {
     "name": "stdout",
     "output_type": "stream",
     "text": [
      "Hello World"
     ]
    }
   ],
   "source": [
    "a = 'Hello World. I am Python.'\n",
    "for i in a:\n",
    "    if i == '.':\n",
    "        break\n",
    "    print(i, end = '')"
   ]
  },
  {
   "cell_type": "code",
   "execution_count": 12,
   "id": "c15f420f-14b4-4bcd-9e48-e4cd7c8f0594",
   "metadata": {},
   "outputs": [
    {
     "name": "stdout",
     "output_type": "stream",
     "text": [
      "Hello World I am Python"
     ]
    }
   ],
   "source": [
    "a = 'Hello World. I am Python.'\n",
    "for i in a:\n",
    "    if i == '.':\n",
    "        continue\n",
    "    print(i, end = '')"
   ]
  },
  {
   "cell_type": "code",
   "execution_count": 13,
   "id": "d4432c76-90a0-4864-aa40-40049ed994f2",
   "metadata": {},
   "outputs": [],
   "source": [
    "#WHILE LOOP"
   ]
  },
  {
   "cell_type": "code",
   "execution_count": 15,
   "id": "d6cbd8c6-84b4-4f9c-9b18-5d240226ecf2",
   "metadata": {},
   "outputs": [],
   "source": [
    "# while <condition>:\n",
    "#    <operations>"
   ]
  },
  {
   "cell_type": "code",
   "execution_count": 1,
   "id": "22b3f55b-b065-4f21-8f72-d6f4e930f5eb",
   "metadata": {},
   "outputs": [
    {
     "name": "stdout",
     "output_type": "stream",
     "text": [
      "0 Hello World\n",
      "1 Hello World\n",
      "2 Hello World\n",
      "3 Hello World\n",
      "4 Hello World\n"
     ]
    }
   ],
   "source": [
    "a = 0\n",
    "while a<5:\n",
    "    print(a, 'Hello World')\n",
    "    a = a + 1"
   ]
  },
  {
   "cell_type": "code",
   "execution_count": 2,
   "id": "9a1afaaf-5fba-4227-9d38-3586b40784ed",
   "metadata": {},
   "outputs": [
    {
     "name": "stdout",
     "output_type": "stream",
     "text": [
      "5 Hello World\n",
      "4 Hello World\n",
      "3 Hello World\n",
      "2 Hello World\n",
      "1 Hello World\n"
     ]
    }
   ],
   "source": [
    "a = 5\n",
    "while a>0:\n",
    "    print(a, 'Hello World')\n",
    "    a = a - 1"
   ]
  },
  {
   "cell_type": "code",
   "execution_count": 3,
   "id": "3b70b902-8ef4-483e-8c0e-c0e7c1d78141",
   "metadata": {},
   "outputs": [
    {
     "name": "stdin",
     "output_type": "stream",
     "text": [
      "Enter n =  8\n"
     ]
    },
    {
     "name": "stdout",
     "output_type": "stream",
     "text": [
      "8 * 1 = 8\n",
      "8 * 2 = 16\n",
      "8 * 3 = 24\n",
      "8 * 4 = 32\n",
      "8 * 5 = 40\n",
      "8 * 6 = 48\n",
      "8 * 7 = 56\n",
      "8 * 8 = 64\n",
      "8 * 9 = 72\n",
      "8 * 10 = 80\n"
     ]
    }
   ],
   "source": [
    "n = int(input('Enter n = '))\n",
    "i = 1                        #initialization\n",
    "while i<=10:                 #declaration\n",
    "    print(n,'*',i,'=',n*i)\n",
    "    i = i + 1                #increment or decrement "
   ]
  },
  {
   "cell_type": "code",
   "execution_count": 7,
   "id": "8ed1d70b-83ed-45da-8c44-0d1903d1b4d2",
   "metadata": {},
   "outputs": [
    {
     "name": "stdin",
     "output_type": "stream",
     "text": [
      "Enter n =  3\n",
      "Enter x =  50\n"
     ]
    },
    {
     "name": "stdout",
     "output_type": "stream",
     "text": [
      "50\n"
     ]
    },
    {
     "name": "stdin",
     "output_type": "stream",
     "text": [
      "Enter x =  60\n"
     ]
    },
    {
     "name": "stdout",
     "output_type": "stream",
     "text": [
      "110\n"
     ]
    },
    {
     "name": "stdin",
     "output_type": "stream",
     "text": [
      "Enter x =  70\n"
     ]
    },
    {
     "name": "stdout",
     "output_type": "stream",
     "text": [
      "180\n"
     ]
    }
   ],
   "source": [
    "s = 0\n",
    "i = 0\n",
    "n = int(input('Enter n = '))\n",
    "while i<n:\n",
    "    x = int(input('Enter x = '))\n",
    "    s = s + x\n",
    "    print(s)\n",
    "    i = i + 1"
   ]
  },
  {
   "cell_type": "code",
   "execution_count": 2,
   "id": "55945cda-0f80-4a8f-b51d-43335a9c130c",
   "metadata": {},
   "outputs": [
    {
     "name": "stdin",
     "output_type": "stream",
     "text": [
      "Enter n =  3\n",
      "Enter name =  Ram\n",
      "Enter number =  9876\n",
      "Enter name =  Dam\n",
      "Enter number =  6789\n",
      "Enter name =  Gam\n",
      "Enter number =  6587\n"
     ]
    },
    {
     "name": "stdout",
     "output_type": "stream",
     "text": [
      "Ram\t9876\n",
      "Dam\t6789\n",
      "Gam\t6587\n",
      "\n"
     ]
    }
   ],
   "source": [
    "#WAP to store name and phone number of a given persons\n",
    "\n",
    "s = ''\n",
    "i = 0\n",
    "n = int(input('Enter n = '))\n",
    "while i<n:\n",
    "    name = input('Enter name = ')\n",
    "    number = input('Enter number = ')\n",
    "    s = s + name + '\\t' + number + '\\n'\n",
    "    i = i + 1\n",
    "\n",
    "print(s)"
   ]
  },
  {
   "cell_type": "code",
   "execution_count": 3,
   "id": "7e171571-c941-4a9c-b907-41432b793038",
   "metadata": {},
   "outputs": [
    {
     "name": "stdin",
     "output_type": "stream",
     "text": [
      "Enter n =  2\n",
      "Enter product =  Gum\n",
      "Enter price =  150\n",
      "Enter quantity =  2\n",
      "Enter product =  Rum\n",
      "Enter price =  515\n",
      "Enter quantity =  3\n"
     ]
    },
    {
     "name": "stdout",
     "output_type": "stream",
     "text": [
      "Gum\t150\t2\t300\n",
      "Rum\t515\t3\t1545\n",
      "\n",
      "Total Amount =  1845\n"
     ]
    }
   ],
   "source": [
    "s = ''\n",
    "i = 0\n",
    "final_total = 0\n",
    "n = int(input('Enter n = '))\n",
    "while i<n:\n",
    "    product = input('Enter product = ')\n",
    "    price = int(input('Enter price = '))\n",
    "    quantity = int(input('Enter quantity = '))\n",
    "    total = price * quantity\n",
    "    x = product + '\\t' + str(price) + '\\t' + str(quantity) + '\\t' + str(total) + '\\n'\n",
    "    s = s + x\n",
    "    final_total = final_total + total\n",
    "    i = i + 1\n",
    "\n",
    "print(s)\n",
    "print('Total Amount = ',final_total)\n",
    "    "
   ]
  },
  {
   "cell_type": "code",
   "execution_count": 4,
   "id": "113eddce-0509-4be3-bcda-385e2eb1b91f",
   "metadata": {},
   "outputs": [],
   "source": [
    "#control statement in while loop"
   ]
  },
  {
   "cell_type": "code",
   "execution_count": 7,
   "id": "793f9339-1a14-4ae3-a6d1-8f4ccb70225e",
   "metadata": {},
   "outputs": [
    {
     "name": "stdout",
     "output_type": "stream",
     "text": [
      "1\n",
      "3\n"
     ]
    }
   ],
   "source": [
    "i = 1\n",
    "while i < 10:\n",
    "    if i == 5:\n",
    "        break\n",
    "    print(i)\n",
    "    i = i+2"
   ]
  },
  {
   "cell_type": "code",
   "execution_count": 1,
   "id": "b973f400-d854-48da-b11b-efc8f5090545",
   "metadata": {},
   "outputs": [
    {
     "name": "stdout",
     "output_type": "stream",
     "text": [
      "0\n",
      "1\n",
      "2\n",
      "3\n",
      "4\n",
      "5\n",
      "6\n",
      "8\n",
      "9\n"
     ]
    }
   ],
   "source": [
    "i = 0\n",
    "while i<10:\n",
    "    if i == 7:\n",
    "        i = i + 1\n",
    "        continue\n",
    "    print(i)\n",
    "    i = i + 1\n",
    "    "
   ]
  },
  {
   "cell_type": "code",
   "execution_count": null,
   "id": "a0f651b3-c7bc-47bb-9bdd-11406ef9f717",
   "metadata": {},
   "outputs": [],
   "source": [
    "# for else loop\n",
    "# prime -> 2,3,5,7,11,13,17,19\n",
    "# compostie -> 4,6,8,9,10,12,14,15,16,18,20,21,22,24,25,27"
   ]
  },
  {
   "cell_type": "code",
   "execution_count": 7,
   "id": "692cd6cf-17e0-4a85-bc6f-a48b98af6803",
   "metadata": {},
   "outputs": [
    {
     "name": "stdin",
     "output_type": "stream",
     "text": [
      "Enter n =  89\n"
     ]
    },
    {
     "name": "stdout",
     "output_type": "stream",
     "text": [
      "The no is prime\n"
     ]
    }
   ],
   "source": [
    "n = int(input('Enter n = '))\n",
    "for i in range(2,n):\n",
    "    if n%i == 0:\n",
    "        print('The no is composite')\n",
    "        break\n",
    "\n",
    "else:\n",
    "    print('The no is prime')"
   ]
  },
  {
   "cell_type": "code",
   "execution_count": null,
   "id": "72b1d583-f811-4339-95cd-c37a15e4247a",
   "metadata": {},
   "outputs": [],
   "source": []
  }
 ],
 "metadata": {
  "kernelspec": {
   "display_name": "Python [conda env:base] *",
   "language": "python",
   "name": "conda-base-py"
  },
  "language_info": {
   "codemirror_mode": {
    "name": "ipython",
    "version": 3
   },
   "file_extension": ".py",
   "mimetype": "text/x-python",
   "name": "python",
   "nbconvert_exporter": "python",
   "pygments_lexer": "ipython3",
   "version": "3.12.7"
  }
 },
 "nbformat": 4,
 "nbformat_minor": 5
}
