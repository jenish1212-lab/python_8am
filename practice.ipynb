{
 "cells": [
  {
   "cell_type": "code",
   "execution_count": 1,
   "id": "e4183eb4-298f-4015-9873-a330542a1d52",
   "metadata": {},
   "outputs": [
    {
     "name": "stdout",
     "output_type": "stream",
     "text": [
      "the value of a is greater\n"
     ]
    }
   ],
   "source": [
    "a = 11\n",
    "if a>10:\n",
    "    print('the value of a is greater')"
   ]
  },
  {
   "cell_type": "code",
   "execution_count": 6,
   "id": "cdd9acd4-2109-44c0-a0d6-67b13ce33ae1",
   "metadata": {},
   "outputs": [
    {
     "name": "stdin",
     "output_type": "stream",
     "text": [
      "Enter a =  5\n"
     ]
    },
    {
     "name": "stdout",
     "output_type": "stream",
     "text": [
      "a is less than or equal to 20\n"
     ]
    }
   ],
   "source": [
    "a = int(input('Enter a = '))\n",
    "if a != 5:\n",
    "    print('a is not equal to five')\n",
    "elif a <=20:\n",
    "    print('a is less than or equal to 20')\n"
   ]
  },
  {
   "cell_type": "code",
   "execution_count": 10,
   "id": "a9355ae8-392d-4dcd-b4bb-205364ed5178",
   "metadata": {},
   "outputs": [
    {
     "name": "stdin",
     "output_type": "stream",
     "text": [
      "monthly cashflow of ram 200000\n",
      "monthly cashflow of jiban 250000\n",
      "monthly cashflow of jen 350000\n"
     ]
    },
    {
     "name": "stdout",
     "output_type": "stream",
     "text": [
      "total cashflow =  800000\n",
      "average cashflow =  266666.6666666667\n",
      "the highest cashflow is =  350000\n"
     ]
    }
   ],
   "source": [
    "ram = int(input('monthly cashflow of ram'))\n",
    "jiban = int(input('monthly cashflow of jiban'))\n",
    "jen = int(input('monthly cashflow of jen'))\n",
    "\n",
    "total_cashflow = ram+jiban+jen\n",
    "print('total cashflow = ', total_cashflow)\n",
    "\n",
    "avg_cashflow = total_cashflow/3\n",
    "print('average cashflow = ', avg_cashflow)\n",
    "\n",
    "highest_cashflow = max(ram, jiban, jen)\n",
    "print('the highest cashflow is = ', highest_cashflow)"
   ]
  },
  {
   "cell_type": "code",
   "execution_count": 12,
   "id": "1c9ad604-6201-4ea2-9637-1233952b300e",
   "metadata": {},
   "outputs": [
    {
     "name": "stdin",
     "output_type": "stream",
     "text": [
      "monthly income = 45000\n",
      "Monthly rent =  10000\n",
      "Monthly groceries 4500\n",
      "Monthly fuel =  2000\n"
     ]
    },
    {
     "name": "stdout",
     "output_type": "stream",
     "text": [
      "total monthly expenses =  16500\n",
      "net income =  28500\n",
      "total annual expenses =  198000\n",
      "total annual income =  540000\n",
      "total annual savings =  342000\n",
      "highest expenses is  10000\n",
      "rent is affordable\n",
      "annual income is insufficient\n"
     ]
    }
   ],
   "source": [
    "#monthly expenses calculation\n",
    "monthly_income = int(input('monthly income ='))\n",
    "rent = int(input('Monthly rent = '))\n",
    "groceries = int(input('Monthly groceries'))\n",
    "fuel = int(input('Monthly fuel = '))\n",
    "\n",
    "total_monthly_expenses = rent+groceries+fuel\n",
    "print('total monthly expenses = ', total_monthly_expenses)\n",
    "\n",
    "net_income = monthly_income-total_monthly_expenses\n",
    "print('net income = ', net_income)\n",
    "\n",
    "annual_expenses = total_monthly_expenses*12\n",
    "print('total annual expenses = ', annual_expenses)\n",
    "\n",
    "annual_income = monthly_income*12\n",
    "print('total annual income = ', annual_income)\n",
    "\n",
    "annual_savings = annual_income-annual_expenses\n",
    "print('total annual savings = ', annual_savings)\n",
    "\n",
    "highest_expenses = max(rent, groceries, fuel)\n",
    "print('highest expenses is ', highest_expenses)\n",
    "\n",
    "if rent>= 30000:\n",
    "    print('rent is higher')\n",
    "else:\n",
    "    print('rent is affordable')\n",
    "\n",
    "if annual_income>= 2000000:\n",
    "    print('annual income is sustainable')\n",
    "else:\n",
    "    print('annual income is insufficient')\n",
    "\n",
    "if annual_expenses>=1500000:\n",
    "    print('annual expenses is inaffordable')\n",
    "    "
   ]
  },
  {
   "cell_type": "code",
   "execution_count": null,
   "id": "2d3bd366-84f3-4c85-b089-c6ef198567c6",
   "metadata": {},
   "outputs": [],
   "source": []
  }
 ],
 "metadata": {
  "kernelspec": {
   "display_name": "Python [conda env:base] *",
   "language": "python",
   "name": "conda-base-py"
  },
  "language_info": {
   "codemirror_mode": {
    "name": "ipython",
    "version": 3
   },
   "file_extension": ".py",
   "mimetype": "text/x-python",
   "name": "python",
   "nbconvert_exporter": "python",
   "pygments_lexer": "ipython3",
   "version": "3.12.7"
  }
 },
 "nbformat": 4,
 "nbformat_minor": 5
}
