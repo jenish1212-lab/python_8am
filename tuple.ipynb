{
 "cells": [
  {
   "cell_type": "code",
   "execution_count": 1,
   "id": "6c22ba48-aabc-428b-8b8b-3c3c9934583f",
   "metadata": {},
   "outputs": [],
   "source": [
    "# tuple\n",
    "#-indexing\n",
    "#-ordered\n",
    "#-multiple and duplicate\n",
    "#-imutable\n"
   ]
  },
  {
   "cell_type": "code",
   "execution_count": 2,
   "id": "289e4236-d9ae-4b7f-ba81-dcdd39a6923a",
   "metadata": {},
   "outputs": [
    {
     "name": "stdout",
     "output_type": "stream",
     "text": [
      "<class 'tuple'>\n"
     ]
    }
   ],
   "source": [
    "t = (1,2,3,4,5,6,7,8,9)\n",
    "print(type(t))"
   ]
  },
  {
   "cell_type": "code",
   "execution_count": 3,
   "id": "dcf51112-c3eb-4e4a-9c3b-7d026f733cb9",
   "metadata": {},
   "outputs": [
    {
     "name": "stdout",
     "output_type": "stream",
     "text": [
      "<class 'tuple'>\n"
     ]
    }
   ],
   "source": [
    "t = ('Apple','Ball')\n",
    "print(type(t))"
   ]
  },
  {
   "cell_type": "code",
   "execution_count": 5,
   "id": "58160191-509d-457b-ab24-b7db3951156c",
   "metadata": {},
   "outputs": [
    {
     "name": "stdout",
     "output_type": "stream",
     "text": [
      "<class 'tuple'>\n"
     ]
    }
   ],
   "source": [
    "t = ('Apple',)\n",
    "print(type(t))"
   ]
  },
  {
   "cell_type": "code",
   "execution_count": 12,
   "id": "32de3192-e487-448b-85da-22c5a9c9c067",
   "metadata": {},
   "outputs": [
    {
     "name": "stdout",
     "output_type": "stream",
     "text": [
      "('Apple', 'Ball', 'Cat')\n"
     ]
    }
   ],
   "source": [
    "t = ('Apple','Ball', 'Cat', 'Dog')\n",
    "print(t[0:3])\n"
   ]
  },
  {
   "cell_type": "code",
   "execution_count": 13,
   "id": "507e1741-b530-494c-bdb4-5dfcf7f1ec9d",
   "metadata": {},
   "outputs": [],
   "source": [
    "#no append() insert() extend() | no update | no del remove() pop()| no sort()| no reverse()"
   ]
  },
  {
   "cell_type": "code",
   "execution_count": 1,
   "id": "3729a354-8ef1-4f1a-9cc2-2ef152c9f7e3",
   "metadata": {},
   "outputs": [
    {
     "name": "stdin",
     "output_type": "stream",
     "text": [
      "Enter n =  4\n",
      "Enter x =  200\n",
      "Enter x =  400\n",
      "Enter x =  500\n",
      "Enter x =  700\n"
     ]
    },
    {
     "name": "stdout",
     "output_type": "stream",
     "text": [
      "(200, 400, 500, 700)\n",
      "700\n",
      "200\n",
      "1800\n"
     ]
    }
   ],
   "source": [
    "t = tuple()\n",
    "n = int(input('Enter n = '))\n",
    "for i in range(n):\n",
    "    x = int(input('Enter x = '))\n",
    "    t = t + (x,)                #x is int so (x,) makes it concatinate with tuple\n",
    "\n",
    "print(t)\n",
    "print(max(t))\n",
    "print(min(t))\n",
    "print(sum(t))"
   ]
  },
  {
   "cell_type": "code",
   "execution_count": 2,
   "id": "8b2dafbe-9320-41c2-a625-042d183bd00f",
   "metadata": {},
   "outputs": [
    {
     "name": "stdout",
     "output_type": "stream",
     "text": [
      "(10, 15, 20, 25, 30)\n"
     ]
    }
   ],
   "source": [
    "a = 10,15,20,25,30\n",
    "print(a)"
   ]
  },
  {
   "cell_type": "code",
   "execution_count": 3,
   "id": "5eb27a75-5c03-4587-a921-4f1f3c8f1fb2",
   "metadata": {},
   "outputs": [],
   "source": [
    "#tuple to list"
   ]
  },
  {
   "cell_type": "code",
   "execution_count": 8,
   "id": "38707e02-c22f-428d-b85b-266f0e1693a0",
   "metadata": {},
   "outputs": [
    {
     "name": "stdout",
     "output_type": "stream",
     "text": [
      "['Apple', 'Ball', 'Dog']\n",
      "('Apple', 'Ball', 'Dog')\n"
     ]
    }
   ],
   "source": [
    "t = ('Apple','Ball', 'Cat', 'Dog')\n",
    "l = list(t)\n",
    "del l[2]\n",
    "print(l)\n",
    "\n",
    "t = tuple(l)\n",
    "print(t)"
   ]
  },
  {
   "cell_type": "code",
   "execution_count": 9,
   "id": "da999ef3-f301-4c44-a800-333779b14084",
   "metadata": {},
   "outputs": [
    {
     "name": "stdout",
     "output_type": "stream",
     "text": [
      "((1, 2, 3), (4, 5, 6), (7, 8, 9))\n"
     ]
    }
   ],
   "source": [
    "a = ((1,2,3),(4,5,6),(7,8,9))\n",
    "print(a)"
   ]
  },
  {
   "cell_type": "code",
   "execution_count": null,
   "id": "4e33312a-6552-4263-b0de-0f6db7f39160",
   "metadata": {},
   "outputs": [],
   "source": []
  },
  {
   "cell_type": "code",
   "execution_count": null,
   "id": "df2f1635-28f8-40d5-b7b6-d18706005686",
   "metadata": {},
   "outputs": [],
   "source": []
  },
  {
   "cell_type": "code",
   "execution_count": null,
   "id": "e293b22e-58cd-4935-87e7-d2b6b3e229e6",
   "metadata": {},
   "outputs": [],
   "source": []
  },
  {
   "cell_type": "code",
   "execution_count": null,
   "id": "aed05988-4f85-4f7f-a9a4-343803b0d173",
   "metadata": {},
   "outputs": [],
   "source": []
  },
  {
   "cell_type": "code",
   "execution_count": null,
   "id": "06e4deff-32d0-4944-a4bf-858985ef183e",
   "metadata": {},
   "outputs": [],
   "source": []
  }
 ],
 "metadata": {
  "kernelspec": {
   "display_name": "Python [conda env:base] *",
   "language": "python",
   "name": "conda-base-py"
  },
  "language_info": {
   "codemirror_mode": {
    "name": "ipython",
    "version": 3
   },
   "file_extension": ".py",
   "mimetype": "text/x-python",
   "name": "python",
   "nbconvert_exporter": "python",
   "pygments_lexer": "ipython3",
   "version": "3.12.7"
  }
 },
 "nbformat": 4,
 "nbformat_minor": 5
}
