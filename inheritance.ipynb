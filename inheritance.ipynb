{
 "cells": [
  {
   "cell_type": "code",
   "execution_count": 1,
   "id": "bf04329b-2687-47c2-9cbd-e1219ab07960",
   "metadata": {},
   "outputs": [
    {
     "name": "stdin",
     "output_type": "stream",
     "text": [
      "enter name =  Ramana\n",
      "enter age =  88\n",
      "enter add =  Kailash\n"
     ]
    },
    {
     "name": "stdout",
     "output_type": "stream",
     "text": [
      "Hello world I am Ramana. I am from Kailash. I am 88 \n"
     ]
    }
   ],
   "source": [
    "#INHERITANCE\n",
    "class Data:                              #parent class\n",
    "    def __init__(self,name,age,add):\n",
    "        self.name = name\n",
    "        self.age = age\n",
    "        self.add = add\n",
    "\n",
    "    def data(self):\n",
    "        print(self.name,self.age,self.add)\n",
    "\n",
    "class Info(Data):                        #child class\n",
    "    def info(self):\n",
    "        print(f'Hello world I am {self.name}. I am from {self.add}. I am {self.age} ')\n",
    "\n",
    "name = input('enter name = ')\n",
    "age = int(input('enter age = '))\n",
    "add = input('enter add = ')\n",
    "obj = Info(name,age,add)\n",
    "obj.info()"
   ]
  },
  {
   "cell_type": "code",
   "execution_count": 2,
   "id": "e38f03d5-d23a-4944-8677-2a51b7630279",
   "metadata": {},
   "outputs": [
    {
     "name": "stdin",
     "output_type": "stream",
     "text": [
      "enter name =  Yusef\n",
      "enter age =  67\n",
      "enter add =  Pakistan\n"
     ]
    },
    {
     "name": "stdout",
     "output_type": "stream",
     "text": [
      "Hello world I am Yusef. I am from Pakistan. I am 67 \n"
     ]
    }
   ],
   "source": [
    "class Data:                              #parent class\n",
    "    def __init__(self,add):\n",
    "        self.add = add\n",
    "\n",
    "    def data(self):\n",
    "        print(self.name,self.age,self.add)\n",
    "\n",
    "class Info(Data):                       #child class\n",
    "    def __init__(self,name,age,add):\n",
    "        self.name = name\n",
    "        self.age = age\n",
    "        Data.__init__(self,add)\n",
    "    def info(self):\n",
    "        print(f'Hello world I am {self.name}. I am from {self.add}. I am {self.age} ')\n",
    "\n",
    "name = input('enter name = ')\n",
    "age = int(input('enter age = '))\n",
    "add = input('enter add = ')\n",
    "obj = Info(name,age,add)\n",
    "obj.info()"
   ]
  },
  {
   "cell_type": "code",
   "execution_count": 3,
   "id": "df03ec86-8f12-4196-bc8c-874d6d475835",
   "metadata": {},
   "outputs": [
    {
     "name": "stdout",
     "output_type": "stream",
     "text": [
      "this is class A\n",
      "this is class B\n",
      "this is class C\n"
     ]
    }
   ],
   "source": [
    "#multilevel\n",
    "class A:\n",
    "    print('this is class A')\n",
    "class B(A):\n",
    "    print('this is class B')\n",
    "class C(B):\n",
    "    print('this is class C')\n",
    "\n",
    "obj = C()"
   ]
  },
  {
   "cell_type": "code",
   "execution_count": 4,
   "id": "a45ab7f3-b008-4d61-af5b-4e1785d4072e",
   "metadata": {},
   "outputs": [
    {
     "name": "stdin",
     "output_type": "stream",
     "text": [
      "enter name =  Gajendra\n",
      "enter age =  56\n",
      "enter add =  Bajhang\n"
     ]
    },
    {
     "name": "stdout",
     "output_type": "stream",
     "text": [
      "Hello world I am Gajendra. I am from Bajhang. I am 56 \n",
      "Gajendra 56 Bajhang\n"
     ]
    }
   ],
   "source": [
    "class Address:\n",
    "    def __init__(self,add):\n",
    "        self.add = add\n",
    "    def address(self):\n",
    "        print(self.add)\n",
    "\n",
    "class Data(Address):\n",
    "    def __init__(self,age,add):\n",
    "        self.age = age\n",
    "        Address.__init__(self,add)\n",
    "    def data(self):\n",
    "        print(self.name,self.age,self.add)\n",
    "class Info(Data):\n",
    "    def __init__(self,name,age,add):\n",
    "        self.name = name\n",
    "        Data.__init__(self,age,add)\n",
    "    def info(self):\n",
    "        print(f'Hello world I am {self.name}. I am from {self.add}. I am {self.age} ')\n",
    "\n",
    "name = input('enter name = ')\n",
    "age = int(input('enter age = '))\n",
    "add = input('enter add = ')\n",
    "obj = Info(name,age,add)\n",
    "obj.info()\n",
    "obj.data()"
   ]
  },
  {
   "cell_type": "code",
   "execution_count": 5,
   "id": "7ae5c77c-a8eb-4db7-a90f-3a36984da237",
   "metadata": {},
   "outputs": [
    {
     "name": "stdout",
     "output_type": "stream",
     "text": [
      "Hello world i am Ram. I am from KTM. I am 34 \n",
      "('Ram', 34, 'KTM')\n"
     ]
    }
   ],
   "source": [
    "class Data:\n",
    "    def __init__(self):\n",
    "        self.name = 'Ram'\n",
    "        self.age = 34\n",
    "        self.add = 'KTM'\n",
    "    def data(self):\n",
    "        return self.name,self.age,self.add\n",
    "\n",
    "class Info(Data):\n",
    "    def info(self):\n",
    "        print(f'Hello world i am {self.name}. I am from {self.add}. I am {self.age} ')\n",
    "        print(Data.data(self))\n",
    "\n",
    "obj = Info()\n",
    "obj.info()"
   ]
  },
  {
   "cell_type": "code",
   "execution_count": null,
   "id": "b33c0132-f050-4ebf-87bf-c7c6c08008b3",
   "metadata": {},
   "outputs": [],
   "source": []
  }
 ],
 "metadata": {
  "kernelspec": {
   "display_name": "Python [conda env:base] *",
   "language": "python",
   "name": "conda-base-py"
  },
  "language_info": {
   "codemirror_mode": {
    "name": "ipython",
    "version": 3
   },
   "file_extension": ".py",
   "mimetype": "text/x-python",
   "name": "python",
   "nbconvert_exporter": "python",
   "pygments_lexer": "ipython3",
   "version": "3.12.7"
  }
 },
 "nbformat": 4,
 "nbformat_minor": 5
}
