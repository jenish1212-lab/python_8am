{
 "cells": [
  {
   "cell_type": "code",
   "execution_count": 11,
   "id": "9ccbf204-2f4d-4cf8-aab9-8b1f70c69c8d",
   "metadata": {},
   "outputs": [
    {
     "name": "stdout",
     "output_type": "stream",
     "text": [
      "the value inside a is greater than 10\n"
     ]
    }
   ],
   "source": [
    "a = 11\n",
    "if a > 10:\n",
    " print('the value inside a is greater than 10')"
   ]
  },
  {
   "cell_type": "code",
   "execution_count": null,
   "id": "bc2dfa5b-f917-47f6-b84e-1c390d5aeadd",
   "metadata": {},
   "outputs": [],
   "source": [
    "if <condition>:\n",
    "    <operations>\n",
    "elif <condition>:\n",
    "    <operations>\n",
    "...\n",
    "else:\n",
    "    <operations>"
   ]
  },
  {
   "cell_type": "code",
   "execution_count": null,
   "id": "28725b69-f8b3-454c-aca8-aaf7b9c61867",
   "metadata": {},
   "outputs": [],
   "source": [
    ">  <  >=  <=  !=               #operators "
   ]
  },
  {
   "cell_type": "code",
   "execution_count": 9,
   "id": "04134125-90cf-4730-972b-04b767925211",
   "metadata": {},
   "outputs": [
    {
     "name": "stdout",
     "output_type": "stream",
     "text": [
      "a is positive number\n"
     ]
    }
   ],
   "source": [
    "a = 10\n",
    "if a>=0:\n",
    "    print('a is positive number')\n",
    "\n",
    "else:\n",
    "    print('a is negative number')"
   ]
  },
  {
   "cell_type": "code",
   "execution_count": 12,
   "id": "c2e83df5-0daf-41a9-beb2-8ee7080bd77a",
   "metadata": {},
   "outputs": [
    {
     "name": "stdin",
     "output_type": "stream",
     "text": [
      "Enter a =  -5\n"
     ]
    },
    {
     "name": "stdout",
     "output_type": "stream",
     "text": [
      "a is negative number\n"
     ]
    }
   ],
   "source": [
    "a = int(input('Enter a = '))\n",
    "if a>=0:\n",
    "    print('a is positive number')\n",
    "\n",
    "else:\n",
    "    print('a is negative number')"
   ]
  },
  {
   "cell_type": "code",
   "execution_count": 14,
   "id": "17ac13c1-28ee-439b-8c77-d570bebf3045",
   "metadata": {},
   "outputs": [
    {
     "name": "stdin",
     "output_type": "stream",
     "text": [
      "Enter a =  4\n"
     ]
    },
    {
     "name": "stdout",
     "output_type": "stream",
     "text": [
      "this is even no\n"
     ]
    }
   ],
   "source": [
    "a = int(input('Enter a = '))\n",
    "if a%2==0:\n",
    "    print('this is even no')\n",
    "\n",
    "else:\n",
    "    print('this is odd no')"
   ]
  },
  {
   "cell_type": "code",
   "execution_count": 17,
   "id": "7e06a013-98c7-4f2a-80b8-70931b5a4d34",
   "metadata": {},
   "outputs": [
    {
     "name": "stdin",
     "output_type": "stream",
     "text": [
      "Enter a =  5\n",
      "Enter b =  5\n"
     ]
    },
    {
     "name": "stdout",
     "output_type": "stream",
     "text": [
      "both are equal\n"
     ]
    }
   ],
   "source": [
    "a = int(input('Enter a = '))\n",
    "b = int(input('Enter b = '))\n",
    "if a>b:\n",
    "    print('a is greater than b')\n",
    "\n",
    "elif b>a:\n",
    "        print('b is greater than a')\n",
    "\n",
    "else:\n",
    "    print('both are equal')\n"
   ]
  },
  {
   "cell_type": "code",
   "execution_count": 22,
   "id": "d663cb25-fc10-4e19-9b73-92a664e6f4f9",
   "metadata": {},
   "outputs": [
    {
     "name": "stdin",
     "output_type": "stream",
     "text": [
      "Enter physics marks =  75\n",
      "Enter chemistry marks =  65\n",
      "Enter math marks =  89\n",
      "Enter nepali marks =  41\n",
      "Enter english marks =  98\n"
     ]
    },
    {
     "name": "stdout",
     "output_type": "stream",
     "text": [
      "the total marks =  368\n",
      "the per =  73.6 %\n",
      "the grade =  B\n"
     ]
    }
   ],
   "source": [
    "physics = int(input('Enter physics marks = '))\n",
    "chemistry = int(input('Enter chemistry marks = '))\n",
    "math = int(input('Enter math marks = '))\n",
    "nepali = int(input('Enter nepali marks = '))\n",
    "english = int(input('Enter english marks = '))\n",
    "\n",
    "\n",
    "total = physics+chemistry+math+nepali+english\n",
    "per = total/5\n",
    "\n",
    "if per >=80:\n",
    "    Grade = 'A'\n",
    "elif per >=60:\n",
    "    Grade = 'B'\n",
    "elif per >=50:\n",
    "    Grade = 'C'\n",
    "else:\n",
    "    Grade = 'F'\n",
    "print('the total marks = ', total)\n",
    "print('the per = ', per, '%')\n",
    "print('the grade = ',Grade)"
   ]
  },
  {
   "cell_type": "code",
   "execution_count": 23,
   "id": "3837c68a-7c63-4c2e-bb0b-c36187a729a6",
   "metadata": {},
   "outputs": [],
   "source": [
    "#WAP to create a basic calculator"
   ]
  },
  {
   "cell_type": "code",
   "execution_count": 1,
   "id": "2ea3724f-e13a-4c73-986d-ecbeea375a6a",
   "metadata": {},
   "outputs": [
    {
     "name": "stdin",
     "output_type": "stream",
     "text": [
      "Enter a =  23\n",
      "Enter b =  32\n",
      "Enter + or - or / or *  *\n"
     ]
    },
    {
     "name": "stdout",
     "output_type": "stream",
     "text": [
      "736\n"
     ]
    }
   ],
   "source": [
    "a = int(input('Enter a = '))\n",
    "b = int(input('Enter b = '))\n",
    "o = input('Enter + or - or / or * ')\n",
    "if o == '+':\n",
    "    print(a+b)\n",
    "    \n",
    "elif o == '-':\n",
    "    print(a-b)\n",
    "    \n",
    "elif o == '/':\n",
    "    print(a/b)\n",
    "    \n",
    "elif o == '*':\n",
    "    print(a*b)\n",
    "    \n",
    "else:\n",
    "    print('invalid operator')\n",
    "\n",
    "\n"
   ]
  },
  {
   "cell_type": "code",
   "execution_count": 3,
   "id": "675a11b2-b4c7-4127-9c8e-c8e6c29b0c96",
   "metadata": {},
   "outputs": [
    {
     "name": "stdin",
     "output_type": "stream",
     "text": [
      "Enter a =  88\n",
      "Enter b =  0\n",
      "Enter + or - or / or *  /\n"
     ]
    },
    {
     "name": "stdout",
     "output_type": "stream",
     "text": [
      "invalid operator\n"
     ]
    }
   ],
   "source": [
    "a = int(input('Enter a = '))\n",
    "b = int(input('Enter b = '))\n",
    "o = input('Enter + or - or / or * ')\n",
    "if o == '+':\n",
    "    print(a+b)\n",
    "    \n",
    "elif o == '-':\n",
    "    print(a-b)\n",
    "    \n",
    "elif o == '/' and b != 0:\n",
    "    print(a/b)\n",
    "    \n",
    "elif o == '*':\n",
    "    print(a*b)\n",
    "    \n",
    "else:\n",
    "    print('invalid operator')\n",
    "\n",
    "\n"
   ]
  },
  {
   "cell_type": "code",
   "execution_count": 2,
   "id": "c284e4d5-e350-4689-a3f7-69b227329a39",
   "metadata": {},
   "outputs": [],
   "source": [
    "# Logical Operator\n",
    "# and & \n",
    "#or "
   ]
  },
  {
   "cell_type": "code",
   "execution_count": 3,
   "id": "38505fbc-a25a-4a54-a747-f9b1d29712db",
   "metadata": {},
   "outputs": [
    {
     "name": "stdout",
     "output_type": "stream",
     "text": [
      "True\n",
      "False\n",
      "False\n",
      "False\n"
     ]
    }
   ],
   "source": [
    "print(True and True)\n",
    "print(True and False)\n",
    "print(False and True)\n",
    "print(False and False)"
   ]
  },
  {
   "cell_type": "code",
   "execution_count": 6,
   "id": "cc439279-2d59-435d-9483-7d666c3d662c",
   "metadata": {},
   "outputs": [
    {
     "name": "stdout",
     "output_type": "stream",
     "text": [
      "True\n",
      "True\n",
      "True\n",
      "False\n"
     ]
    }
   ],
   "source": [
    "print(True or True)\n",
    "print(True or False)\n",
    "print(False or True)\n",
    "print(False or False)"
   ]
  },
  {
   "cell_type": "code",
   "execution_count": 1,
   "id": "9488e0bf-179b-4a96-8a3c-a904c8d6ea87",
   "metadata": {},
   "outputs": [],
   "source": [
    "# chain condition\n",
    "# nested if else"
   ]
  },
  {
   "cell_type": "code",
   "execution_count": 5,
   "id": "814a7582-b38a-4aa3-95cf-61c36f1d9a70",
   "metadata": {},
   "outputs": [],
   "source": [
    "#nested if else\n",
    "# if <condition>:\n",
    "#    if <condition>:\n",
    "    #    <operation>\n",
    "    #else:\n",
    "     #   <operation>\n",
    "#else:\n",
    " #   if <condition>:\n",
    "  #      <operation>\n",
    "   # else:\n",
    "    #    <operation>    "
   ]
  },
  {
   "cell_type": "code",
   "execution_count": null,
   "id": "6779fcbf-9ee6-43d5-bff2-03ba4e1a0bb1",
   "metadata": {},
   "outputs": [],
   "source": [
    "#CHAIN CONDITION\n",
    "# if <condition>:\n",
    "#    if <condition>:\n",
    "#      if <condition>:\n",
    "    #    <operation>\n",
    "    #else:\n",
    "     #   <operation>\n",
    "#else:\n",
    " #   if <condition>:\n",
    "  #      <operation>\n",
    "   # else:\n",
    "    #    <operation>    "
   ]
  },
  {
   "cell_type": "code",
   "execution_count": 7,
   "id": "8e626c38-a65e-4b00-a229-baae3ca5afbb",
   "metadata": {},
   "outputs": [
    {
     "name": "stdin",
     "output_type": "stream",
     "text": [
      "Enter n =  -22\n"
     ]
    },
    {
     "name": "stdout",
     "output_type": "stream",
     "text": [
      "The no is -ve and even\n"
     ]
    }
   ],
   "source": [
    "n = int(input('Enter n = '))\n",
    "if n>= 0:\n",
    "    if n%2==0:\n",
    "        print('The no is +ve and even')\n",
    "    else:\n",
    "        print('the no is +ve and odd')\n",
    "else:\n",
    "    if n%2==0:\n",
    "        print('The no is -ve and even')\n",
    "    else:\n",
    "        print('The no is -ve and odd')"
   ]
  },
  {
   "cell_type": "code",
   "execution_count": null,
   "id": "ea4aa485-463b-4325-bbfb-a975be2481eb",
   "metadata": {},
   "outputs": [],
   "source": []
  }
 ],
 "metadata": {
  "kernelspec": {
   "display_name": "Python [conda env:base] *",
   "language": "python",
   "name": "conda-base-py"
  },
  "language_info": {
   "codemirror_mode": {
    "name": "ipython",
    "version": 3
   },
   "file_extension": ".py",
   "mimetype": "text/x-python",
   "name": "python",
   "nbconvert_exporter": "python",
   "pygments_lexer": "ipython3",
   "version": "3.12.7"
  }
 },
 "nbformat": 4,
 "nbformat_minor": 5
}
