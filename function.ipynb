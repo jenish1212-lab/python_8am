{
 "cells": [
  {
   "cell_type": "code",
   "execution_count": 1,
   "id": "8ef6b44a-c93b-4045-a3ab-071171e74e5d",
   "metadata": {},
   "outputs": [],
   "source": [
    "#function"
   ]
  },
  {
   "cell_type": "code",
   "execution_count": 2,
   "id": "c6976db8-1cf6-4ca2-ae5b-5081874f04e0",
   "metadata": {},
   "outputs": [],
   "source": [
    "#predefined function\n",
    "#print() type() int() float() str() list() tuple() dict()"
   ]
  },
  {
   "cell_type": "code",
   "execution_count": 4,
   "id": "832c723a-bca1-4bbf-b610-465ebdc8ea02",
   "metadata": {},
   "outputs": [],
   "source": [
    "#user defined funciton\n",
    "#def <function_name>():\n",
    "   # <operations>\n",
    "    \n",
    "#<function_name>()\n"
   ]
  },
  {
   "cell_type": "code",
   "execution_count": 5,
   "id": "b7698225-26fe-4536-afa1-4cceb42fc360",
   "metadata": {},
   "outputs": [
    {
     "name": "stdout",
     "output_type": "stream",
     "text": [
      "hello world\n"
     ]
    }
   ],
   "source": [
    "def hello():\n",
    "    print('hello world')\n",
    "\n",
    "hello()            #---> function_name lekhera call gareko, to operate the defined funciton"
   ]
  },
  {
   "cell_type": "code",
   "execution_count": null,
   "id": "5fe42d96-d353-434d-97b8-6374326ab121",
   "metadata": {},
   "outputs": [],
   "source": [
    "# function without argument and non return type"
   ]
  },
  {
   "cell_type": "code",
   "execution_count": 6,
   "id": "798034c7-2b0c-4c81-8092-d2afd456989c",
   "metadata": {},
   "outputs": [
    {
     "name": "stdout",
     "output_type": "stream",
     "text": [
      "50\n"
     ]
    }
   ],
   "source": [
    "def area():\n",
    "    l = 10            #local variable\n",
    "    b = 5             #local variable  \n",
    "    a = l*b           #local variable\n",
    "    print(a)\n",
    "\n",
    "area()"
   ]
  },
  {
   "cell_type": "code",
   "execution_count": 7,
   "id": "954c186e-1b52-451d-b958-df02131a0edb",
   "metadata": {},
   "outputs": [
    {
     "name": "stdout",
     "output_type": "stream",
     "text": [
      "50\n"
     ]
    }
   ],
   "source": [
    "l = 10               #global variable\n",
    "b = 5                #global variable\n",
    "def area():\n",
    "    a = l*b\n",
    "    print(a)\n",
    "\n",
    "area()"
   ]
  },
  {
   "cell_type": "code",
   "execution_count": 8,
   "id": "92ec789b-489a-4f2b-8389-3078d10122e7",
   "metadata": {},
   "outputs": [
    {
     "name": "stdout",
     "output_type": "stream",
     "text": [
      "50\n"
     ]
    }
   ],
   "source": [
    "#function with arguments\n",
    "def area(l,b):            #l,b is parameter\n",
    "    a = l*b\n",
    "    print(a)\n",
    "\n",
    "area(10,5)                #10,5 is argument\n"
   ]
  },
  {
   "cell_type": "code",
   "execution_count": 10,
   "id": "d0856703-8a87-4a02-83ca-0402914b6568",
   "metadata": {},
   "outputs": [
    {
     "name": "stdin",
     "output_type": "stream",
     "text": [
      "Enter name =  Harish\n",
      "Enter age =  28\n",
      "Enter add =  Baglungs\n"
     ]
    },
    {
     "name": "stdout",
     "output_type": "stream",
     "text": [
      "Hello World I am Harish. I am from Baglungs. I am 28 years old\n"
     ]
    }
   ],
   "source": [
    "def info(name,age,add):\n",
    "    data = f'Hello World I am {name}. I am from {add}. I am {age} years old'\n",
    "    print(data)\n",
    "\n",
    "name = input('Enter name = ')\n",
    "age = input('Enter age = ')\n",
    "add = input('Enter add = ')\n",
    "\n",
    "info(name,age,add)\n"
   ]
  },
  {
   "cell_type": "code",
   "execution_count": 12,
   "id": "c366bd6f-d8aa-491e-8897-4b7b4a52e5aa",
   "metadata": {},
   "outputs": [
    {
     "name": "stdin",
     "output_type": "stream",
     "text": [
      "Enter name =  Tom\n",
      "Enter age =  64\n",
      "Enter add =  Nepal\n"
     ]
    },
    {
     "name": "stdout",
     "output_type": "stream",
     "text": [
      "Hello World I am Tom. I am from Nepal. I am 64 years old\n"
     ]
    }
   ],
   "source": [
    "def info(x):\n",
    "    name,age,add = x\n",
    "    data = f'Hello World I am {name}. I am from {add}. I am {age} years old'\n",
    "    print(data)\n",
    "\n",
    "name = input('Enter name = ')\n",
    "age = input('Enter age = ')\n",
    "add = input('Enter add = ')\n",
    "x = [name,age,add]\n",
    "\n",
    "info(x)"
   ]
  },
  {
   "cell_type": "code",
   "execution_count": 13,
   "id": "22d85065-8d87-4902-be69-ba494091233f",
   "metadata": {},
   "outputs": [
    {
     "name": "stdin",
     "output_type": "stream",
     "text": [
      "Enter name =  Ganapati\n",
      "Enter age =  44\n"
     ]
    },
    {
     "name": "stdout",
     "output_type": "stream",
     "text": [
      "Hello World I am Ganapati. I am from Nepal. I am 44 years old\n"
     ]
    }
   ],
   "source": [
    "def info(name,age,add='Nepal'):\n",
    "    data = f'Hello World I am {name}. I am from {add}. I am {age} years old'\n",
    "    print(data)\n",
    "\n",
    "name = input('Enter name = ')\n",
    "age = input('Enter age = ')\n",
    "#add = input('Enter add = ')\n",
    "\n",
    "info(name,age,)"
   ]
  },
  {
   "cell_type": "code",
   "execution_count": 15,
   "id": "10045cfe-8538-4251-b223-13f4159eedef",
   "metadata": {},
   "outputs": [
    {
     "name": "stdout",
     "output_type": "stream",
     "text": [
      "Hello World. I am Rameshwar\n"
     ]
    }
   ],
   "source": [
    "#return type\n",
    "def hello():\n",
    "    return 'Hello World'\n",
    "\n",
    "x = hello()\n",
    "info = f'{x}. I am Rameshwar'\n",
    "print(info)"
   ]
  },
  {
   "cell_type": "code",
   "execution_count": 16,
   "id": "ca7d7ec2-0613-4c52-9ab9-77ea7506b095",
   "metadata": {},
   "outputs": [
    {
     "name": "stdout",
     "output_type": "stream",
     "text": [
      "50\n",
      "100\n"
     ]
    }
   ],
   "source": [
    "def area(l,b):\n",
    "    a = l*b\n",
    "    return a\n",
    "\n",
    "l = 10\n",
    "b = 5\n",
    "h = 2\n",
    "\n",
    "a = area(l,b)\n",
    "v = a*h\n",
    "\n",
    "print(a)\n",
    "print(v)"
   ]
  },
  {
   "cell_type": "code",
   "execution_count": 17,
   "id": "083aa5e0-0e0c-4754-975a-99327ca95cc2",
   "metadata": {},
   "outputs": [
    {
     "name": "stdout",
     "output_type": "stream",
     "text": [
      "50\n",
      "100\n"
     ]
    }
   ],
   "source": [
    "def cal(l,b,h):\n",
    "    a = l*b\n",
    "    v = a*h\n",
    "    return a,v\n",
    "\n",
    "l = 10\n",
    "b = 5\n",
    "h = 2\n",
    "\n",
    "area,volume = (cal(l,b,h))\n",
    "print(area)\n",
    "print(volume)"
   ]
  },
  {
   "cell_type": "code",
   "execution_count": 19,
   "id": "7b3c564f-abc2-4ffe-85d8-b03cb4c5b490",
   "metadata": {},
   "outputs": [
    {
     "name": "stdin",
     "output_type": "stream",
     "text": [
      "Enter a =  30\n",
      "Enter b =  70\n",
      "Enter o =  *\n"
     ]
    },
    {
     "name": "stdout",
     "output_type": "stream",
     "text": [
      "2100\n"
     ]
    }
   ],
   "source": [
    "def add(a,b):\n",
    "    return a+b\n",
    "def sub(a,b):\n",
    "    return a-b\n",
    "def mul(a,b):\n",
    "    return a*b\n",
    "def div(a,b):\n",
    "    return a/b\n",
    "\n",
    "a = int(input('Enter a = '))\n",
    "b = int(input('Enter b = '))\n",
    "o = input('Enter o = ')\n",
    "if o == '+':\n",
    "    print(add(a,b))\n",
    "elif o == '-':\n",
    "    print(sub(a,b))\n",
    "elif o == '*':\n",
    "    print(mul(a,b))\n",
    "elif o == '/':\n",
    "    print(div(a,b))\n",
    "else:\n",
    "    print('Invalid Operator')\n",
    "\n",
    "\n"
   ]
  },
  {
   "cell_type": "code",
   "execution_count": 21,
   "id": "2657e071-0787-42c1-bbcd-c59ba98dd443",
   "metadata": {},
   "outputs": [
    {
     "name": "stdout",
     "output_type": "stream",
     "text": [
      "Hello World\n"
     ]
    },
    {
     "name": "stdin",
     "output_type": "stream",
     "text": [
      "Enter y for more print y\n"
     ]
    },
    {
     "name": "stdout",
     "output_type": "stream",
     "text": [
      "Hello World\n"
     ]
    },
    {
     "name": "stdin",
     "output_type": "stream",
     "text": [
      "Enter y for more print y\n"
     ]
    },
    {
     "name": "stdout",
     "output_type": "stream",
     "text": [
      "Hello World\n"
     ]
    },
    {
     "name": "stdin",
     "output_type": "stream",
     "text": [
      "Enter y for more print y\n"
     ]
    },
    {
     "name": "stdout",
     "output_type": "stream",
     "text": [
      "Hello World\n"
     ]
    },
    {
     "name": "stdin",
     "output_type": "stream",
     "text": [
      "Enter y for more print y\n"
     ]
    },
    {
     "name": "stdout",
     "output_type": "stream",
     "text": [
      "Hello World\n"
     ]
    },
    {
     "name": "stdin",
     "output_type": "stream",
     "text": [
      "Enter y for more print y\n"
     ]
    },
    {
     "name": "stdout",
     "output_type": "stream",
     "text": [
      "Hello World\n"
     ]
    },
    {
     "name": "stdin",
     "output_type": "stream",
     "text": [
      "Enter y for more print 2\n"
     ]
    }
   ],
   "source": [
    "#recursive function\n",
    "def hello():\n",
    "    print('Hello World')\n",
    "    x = input('Enter y for more print')\n",
    "    if x == 'y':\n",
    "        hello()\n",
    "\n",
    "hello()"
   ]
  },
  {
   "cell_type": "code",
   "execution_count": 23,
   "id": "ff6c7a5e-3374-422e-9f6e-bdc50bfc7fc8",
   "metadata": {},
   "outputs": [
    {
     "name": "stdout",
     "output_type": "stream",
     "text": [
      "144\n"
     ]
    }
   ],
   "source": [
    "#lambda function\n",
    "#lambda <arguments>:<operations>\n",
    "x = lambda a:a**2\n",
    "print(x(12))"
   ]
  },
  {
   "cell_type": "code",
   "execution_count": 24,
   "id": "8aad5280-5d71-4c62-a9e1-0d1a47efea9b",
   "metadata": {},
   "outputs": [
    {
     "name": "stdout",
     "output_type": "stream",
     "text": [
      "480\n"
     ]
    }
   ],
   "source": [
    "x = lambda l,b:l*b\n",
    "print(x(20,24))"
   ]
  },
  {
   "cell_type": "code",
   "execution_count": 25,
   "id": "9a377dd6-8967-4d34-b5de-0c6e14264dba",
   "metadata": {},
   "outputs": [
    {
     "name": "stdout",
     "output_type": "stream",
     "text": [
      "hello dolphin\n"
     ]
    }
   ],
   "source": [
    "x = lambda s:s.lower()\n",
    "print(x('HELLO DOLPHIN'))"
   ]
  },
  {
   "cell_type": "code",
   "execution_count": 1,
   "id": "cef4c0d7-8f32-4c28-b165-9fe6fb6cc5c4",
   "metadata": {},
   "outputs": [
    {
     "data": {
      "text/plain": [
       "'C:\\\\Users\\\\admin\\\\Python 8am'"
      ]
     },
     "execution_count": 1,
     "metadata": {},
     "output_type": "execute_result"
    }
   ],
   "source": [
    "pwd"
   ]
  },
  {
   "cell_type": "code",
   "execution_count": null,
   "id": "8b004bd6-b060-448c-af7c-d5ba5fc5e0b5",
   "metadata": {},
   "outputs": [],
   "source": []
  }
 ],
 "metadata": {
  "kernelspec": {
   "display_name": "Python [conda env:base] *",
   "language": "python",
   "name": "conda-base-py"
  },
  "language_info": {
   "codemirror_mode": {
    "name": "ipython",
    "version": 3
   },
   "file_extension": ".py",
   "mimetype": "text/x-python",
   "name": "python",
   "nbconvert_exporter": "python",
   "pygments_lexer": "ipython3",
   "version": "3.12.7"
  }
 },
 "nbformat": 4,
 "nbformat_minor": 5
}
