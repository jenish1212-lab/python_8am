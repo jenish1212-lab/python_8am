{
 "cells": [
  {
   "cell_type": "code",
   "execution_count": 2,
   "id": "2178e20d-5f0c-44fa-be4a-dc48344aea14",
   "metadata": {},
   "outputs": [
    {
     "name": "stdout",
     "output_type": "stream",
     "text": [
      "Collecting mysql-connector\n",
      "  Downloading mysql-connector-2.2.9.tar.gz (11.9 MB)\n",
      "     ---------------------------------------- 0.0/11.9 MB ? eta -:--:--\n",
      "     ---------------------------------------- 0.0/11.9 MB ? eta -:--:--\n",
      "     - -------------------------------------- 0.5/11.9 MB 1.5 MB/s eta 0:00:08\n",
      "     -- ------------------------------------- 0.8/11.9 MB 2.0 MB/s eta 0:00:06\n",
      "     --- ------------------------------------ 1.0/11.9 MB 1.9 MB/s eta 0:00:06\n",
      "     ----- ---------------------------------- 1.6/11.9 MB 1.8 MB/s eta 0:00:06\n",
      "     ------ --------------------------------- 1.8/11.9 MB 1.6 MB/s eta 0:00:07\n",
      "     ------ --------------------------------- 1.8/11.9 MB 1.6 MB/s eta 0:00:07\n",
      "     ------- -------------------------------- 2.1/11.9 MB 1.3 MB/s eta 0:00:08\n",
      "     ------- -------------------------------- 2.4/11.9 MB 1.4 MB/s eta 0:00:07\n",
      "     ------- -------------------------------- 2.4/11.9 MB 1.4 MB/s eta 0:00:07\n",
      "     -------- ------------------------------- 2.6/11.9 MB 1.3 MB/s eta 0:00:08\n",
      "     -------- ------------------------------- 2.6/11.9 MB 1.3 MB/s eta 0:00:08\n",
      "     --------- ------------------------------ 2.9/11.9 MB 1.1 MB/s eta 0:00:09\n",
      "     --------- ------------------------------ 2.9/11.9 MB 1.1 MB/s eta 0:00:09\n",
      "     --------- ------------------------------ 2.9/11.9 MB 1.1 MB/s eta 0:00:09\n",
      "     ---------- ---------------------------- 3.1/11.9 MB 976.5 kB/s eta 0:00:09\n",
      "     ---------- ---------------------------- 3.1/11.9 MB 976.5 kB/s eta 0:00:09\n",
      "     ---------- ---------------------------- 3.1/11.9 MB 976.5 kB/s eta 0:00:09\n",
      "     ----------- --------------------------- 3.4/11.9 MB 890.9 kB/s eta 0:00:10\n",
      "     ------------ -------------------------- 3.7/11.9 MB 916.6 kB/s eta 0:00:09\n",
      "     ------------ -------------------------- 3.9/11.9 MB 900.0 kB/s eta 0:00:09\n",
      "     ------------- ------------------------- 4.2/11.9 MB 915.3 kB/s eta 0:00:09\n",
      "     -------------- ------------------------ 4.5/11.9 MB 929.0 kB/s eta 0:00:08\n",
      "     -------------- ------------------------ 4.5/11.9 MB 929.0 kB/s eta 0:00:08\n",
      "     --------------- ----------------------- 4.7/11.9 MB 935.2 kB/s eta 0:00:08\n",
      "     ---------------- ---------------------- 5.0/11.9 MB 932.2 kB/s eta 0:00:08\n",
      "     ---------------- ---------------------- 5.0/11.9 MB 932.2 kB/s eta 0:00:08\n",
      "     ----------------- --------------------- 5.2/11.9 MB 905.6 kB/s eta 0:00:08\n",
      "     ----------------- --------------------- 5.2/11.9 MB 905.6 kB/s eta 0:00:08\n",
      "     ------------------ -------------------- 5.5/11.9 MB 899.6 kB/s eta 0:00:08\n",
      "     ------------------ -------------------- 5.8/11.9 MB 905.7 kB/s eta 0:00:07\n",
      "     ------------------- ------------------- 6.0/11.9 MB 925.1 kB/s eta 0:00:07\n",
      "     -------------------- ------------------ 6.3/11.9 MB 936.7 kB/s eta 0:00:06\n",
      "     --------------------- ----------------- 6.6/11.9 MB 947.5 kB/s eta 0:00:06\n",
      "     ---------------------- ---------------- 6.8/11.9 MB 955.5 kB/s eta 0:00:06\n",
      "     ------------------------ -------------- 7.3/11.9 MB 978.4 kB/s eta 0:00:05\n",
      "     ------------------------ -------------- 7.3/11.9 MB 978.4 kB/s eta 0:00:05\n",
      "     ------------------------ -------------- 7.3/11.9 MB 978.4 kB/s eta 0:00:05\n",
      "     ------------------------- ------------- 7.6/11.9 MB 954.9 kB/s eta 0:00:05\n",
      "     ------------------------- ------------- 7.9/11.9 MB 952.2 kB/s eta 0:00:05\n",
      "     -------------------------- ------------ 8.1/11.9 MB 953.2 kB/s eta 0:00:04\n",
      "     -------------------------- ------------ 8.1/11.9 MB 953.2 kB/s eta 0:00:04\n",
      "     --------------------------- ----------- 8.4/11.9 MB 949.1 kB/s eta 0:00:04\n",
      "     ---------------------------- ---------- 8.7/11.9 MB 948.6 kB/s eta 0:00:04\n",
      "     ----------------------------- --------- 8.9/11.9 MB 952.9 kB/s eta 0:00:04\n",
      "     ----------------------------- --------- 8.9/11.9 MB 952.9 kB/s eta 0:00:04\n",
      "     ----------------------------- --------- 8.9/11.9 MB 952.9 kB/s eta 0:00:04\n",
      "     ------------------------------ -------- 9.2/11.9 MB 921.6 kB/s eta 0:00:03\n",
      "     ------------------------------ -------- 9.2/11.9 MB 921.6 kB/s eta 0:00:03\n",
      "     ------------------------------ -------- 9.2/11.9 MB 921.6 kB/s eta 0:00:03\n",
      "     ------------------------------ -------- 9.2/11.9 MB 921.6 kB/s eta 0:00:03\n",
      "     ------------------------------- ------- 9.4/11.9 MB 867.4 kB/s eta 0:00:03\n",
      "     ------------------------------- ------- 9.4/11.9 MB 867.4 kB/s eta 0:00:03\n",
      "     ------------------------------- ------- 9.4/11.9 MB 867.4 kB/s eta 0:00:03\n",
      "     ------------------------------- ------- 9.7/11.9 MB 855.5 kB/s eta 0:00:03\n",
      "     ------------------------------- ------- 9.7/11.9 MB 855.5 kB/s eta 0:00:03\n",
      "     ------------------------------- ------ 10.0/11.9 MB 845.8 kB/s eta 0:00:03\n",
      "     ------------------------------- ------ 10.0/11.9 MB 845.8 kB/s eta 0:00:03\n",
      "     -------------------------------- ----- 10.2/11.9 MB 842.2 kB/s eta 0:00:02\n",
      "     --------------------------------- ---- 10.5/11.9 MB 842.1 kB/s eta 0:00:02\n",
      "     --------------------------------- ---- 10.5/11.9 MB 842.1 kB/s eta 0:00:02\n",
      "     ---------------------------------- --- 10.7/11.9 MB 841.0 kB/s eta 0:00:02\n",
      "     ----------------------------------- -- 11.0/11.9 MB 846.1 kB/s eta 0:00:01\n",
      "     ------------------------------------ - 11.3/11.9 MB 848.0 kB/s eta 0:00:01\n",
      "     ------------------------------------ - 11.3/11.9 MB 848.0 kB/s eta 0:00:01\n",
      "     ------------------------------------ - 11.5/11.9 MB 848.7 kB/s eta 0:00:01\n",
      "     -------------------------------------- 11.9/11.9 MB 853.6 kB/s eta 0:00:00\n",
      "  Preparing metadata (setup.py): started\n",
      "  Preparing metadata (setup.py): finished with status 'done'\n",
      "Building wheels for collected packages: mysql-connector\n",
      "  Building wheel for mysql-connector (setup.py): started\n",
      "  Building wheel for mysql-connector (setup.py): finished with status 'done'\n",
      "  Created wheel for mysql-connector: filename=mysql_connector-2.2.9-cp312-cp312-win_amd64.whl size=247959 sha256=fe15d5ae44159ea0095f4c9cc33d628f11fbbaee8ce094e6ec01df4ce87644d3\n",
      "  Stored in directory: c:\\users\\admin\\appdata\\local\\pip\\cache\\wheels\\03\\17\\fa\\d7604c72dd3dd6d3eb3d249abf36cc532c9a9b4354b8f1bc4f\n",
      "Successfully built mysql-connector\n",
      "Installing collected packages: mysql-connector\n",
      "Successfully installed mysql-connector-2.2.9\n"
     ]
    }
   ],
   "source": [
    "!pip install mysql-connector"
   ]
  },
  {
   "cell_type": "code",
   "execution_count": 8,
   "id": "63ca7397-7cfc-4b6d-8de8-c2a5dff48ef0",
   "metadata": {},
   "outputs": [],
   "source": [
    "import mysql.connector  \t\t#importing database\n",
    "\n",
    "database = mysql.connector.connect(\n",
    "  host=\"localhost\",\n",
    "  user=\"root\",\n",
    "  password=\"\",\n",
    "  database = \"python 8 am\"\n",
    ")\n",
    "db = database.cursor()\n",
    "\n"
   ]
  },
  {
   "cell_type": "code",
   "execution_count": 8,
   "id": "0b1dd662-0dab-4e4e-8c8a-43c4b91f8ce4",
   "metadata": {},
   "outputs": [],
   "source": [
    "#read all data from database"
   ]
  },
  {
   "cell_type": "code",
   "execution_count": 9,
   "id": "b2abf249-27c6-4df2-a101-0b3ef9a1d929",
   "metadata": {},
   "outputs": [
    {
     "name": "stdout",
     "output_type": "stream",
     "text": [
      "(1, 'Govinda', 68, 59, 89, 92, 73, 500, 89, 'A')\n",
      "(2, 'Puran', 55, 66, 77, 88, 99, 555, 88, 'A')\n",
      "(3, 'Shankhar', 44, 55, 66, 77, 88, 666, 77, 'B')\n",
      "(4, 'Utkrishta', 74, 55, 66, 77, 88, 666, 79, 'B')\n",
      "(5, 'Umanga', 88, 77, 66, 77, 88, 666, 79, 'A')\n"
     ]
    }
   ],
   "source": [
    "db.execute('SELECT * FROM students')\n",
    "result = db.fetchall()\n",
    "\n",
    "for x in result:\n",
    "    print(x)"
   ]
  },
  {
   "cell_type": "code",
   "execution_count": 11,
   "id": "ec5a4b78-cacf-41d4-a68d-14068edde7b5",
   "metadata": {},
   "outputs": [
    {
     "name": "stdout",
     "output_type": "stream",
     "text": [
      "(1, 'Govinda', 89, 'A')\n",
      "(2, 'Puran', 88, 'A')\n",
      "(3, 'Shankhar', 77, 'B')\n",
      "(4, 'Utkrishta', 79, 'B')\n",
      "(5, 'Umanga', 79, 'A')\n"
     ]
    }
   ],
   "source": [
    "#read selected column's data from database\n",
    "db.execute('SELECT sn,name,per,grade FROM students')\n",
    "result = db.fetchall()\n",
    "\n",
    "for x in result:\n",
    "    print(x)"
   ]
  },
  {
   "cell_type": "code",
   "execution_count": 16,
   "id": "dddd3913-68a7-4676-b0f9-5b5d610111f8",
   "metadata": {},
   "outputs": [
    {
     "name": "stdout",
     "output_type": "stream",
     "text": [
      "(3, 'Shankhar', 44, 55, 66, 77, 88, 666, 77, 'B')\n",
      "(4, 'Utkrishta', 74, 55, 66, 77, 88, 666, 79, 'B')\n"
     ]
    }
   ],
   "source": [
    "#read filtered column's data from database\n",
    "db.execute(\"SELECT * FROM students WHERE grade = 'B'\")\n",
    "result = db.fetchall()\n",
    "\n",
    "for x in result:\n",
    "    print(x)"
   ]
  },
  {
   "cell_type": "code",
   "execution_count": 10,
   "id": "88c5c803-1f9b-4907-a339-d2611bc1492f",
   "metadata": {},
   "outputs": [],
   "source": [
    "#write on table\n",
    "sql = '''INSERT INTO `students` (name, physics, chemistry, math, english, nepali, total, per, grade)\n",
    "VALUES ( 'Anand', 59, 60, 61, 71, 81, 420, 74, 'B');'''\n",
    "db.execute(sql)\n",
    "database.commit()"
   ]
  },
  {
   "cell_type": "code",
   "execution_count": 12,
   "id": "81ee0c10-8674-47ed-a271-9f71d4b7e477",
   "metadata": {},
   "outputs": [
    {
     "name": "stdin",
     "output_type": "stream",
     "text": [
      "Enter name =  Sunanda\n",
      "Enter physics marks =  78\n",
      "Enter chemistry marks =  87\n",
      "Enter math marks =  67\n",
      "Enter nepali marks =  76\n",
      "Enter english marks =  90\n"
     ]
    }
   ],
   "source": [
    "name = input('Enter name = ')\n",
    "physics = int(input('Enter physics marks = '))\n",
    "chemistry = int(input('Enter chemistry marks = '))\n",
    "math = int(input('Enter math marks = '))\n",
    "nepali = int(input('Enter nepali marks = '))\n",
    "english = int(input('Enter english marks = '))\n",
    "\n",
    "\n",
    "total = physics+chemistry+math+nepali+english\n",
    "per = total/5\n",
    "\n",
    "if per >=80:\n",
    "    grade = 'A'\n",
    "elif per >=60:\n",
    "    grade = 'B'\n",
    "elif per >=50:\n",
    "    grade = 'C'\n",
    "else:\n",
    "    grade = 'F'\n",
    "\n",
    "sql = f'''INSERT INTO `students` (name, physics, chemistry, math, english, nepali, total, per, grade)\n",
    "VALUES ('{name}',{physics},{chemistry},{math},{english},{nepali},{total},{per},'{grade}'); '''\n",
    "db.execute(sql)\n",
    "database.commit()"
   ]
  },
  {
   "cell_type": "code",
   "execution_count": 13,
   "id": "66620bda-2ea3-48ec-8534-5fa001b03deb",
   "metadata": {},
   "outputs": [
    {
     "name": "stdin",
     "output_type": "stream",
     "text": [
      "Enter sn =  4\n",
      "Enter name =  Saraswati\n"
     ]
    }
   ],
   "source": [
    "sn = int(input('Enter sn = '))\n",
    "name = input('Enter name = ')\n",
    "sql = f'''UPDATE students SET name = '{name}' WHERE sn = {sn}; '''\n",
    "db.execute(sql)\n",
    "if database.commit():\n",
    "    print('Data is commited')"
   ]
  },
  {
   "cell_type": "code",
   "execution_count": 15,
   "id": "10a1a3fb-3b65-4edf-aff5-ae7fb54f903b",
   "metadata": {},
   "outputs": [
    {
     "name": "stdout",
     "output_type": "stream",
     "text": [
      "Collecting pandasql\n",
      "  Downloading pandasql-0.7.3.tar.gz (26 kB)\n",
      "  Preparing metadata (setup.py): started\n",
      "  Preparing metadata (setup.py): finished with status 'done'\n",
      "Requirement already satisfied: numpy in c:\\users\\admin\\anaconda3\\lib\\site-packages (from pandasql) (1.26.4)\n",
      "Requirement already satisfied: pandas in c:\\users\\admin\\anaconda3\\lib\\site-packages (from pandasql) (2.2.2)\n",
      "Requirement already satisfied: sqlalchemy in c:\\users\\admin\\anaconda3\\lib\\site-packages (from pandasql) (2.0.34)\n",
      "Requirement already satisfied: python-dateutil>=2.8.2 in c:\\users\\admin\\anaconda3\\lib\\site-packages (from pandas->pandasql) (2.9.0.post0)\n",
      "Requirement already satisfied: pytz>=2020.1 in c:\\users\\admin\\anaconda3\\lib\\site-packages (from pandas->pandasql) (2024.1)\n",
      "Requirement already satisfied: tzdata>=2022.7 in c:\\users\\admin\\anaconda3\\lib\\site-packages (from pandas->pandasql) (2023.3)\n",
      "Requirement already satisfied: typing-extensions>=4.6.0 in c:\\users\\admin\\anaconda3\\lib\\site-packages (from sqlalchemy->pandasql) (4.11.0)\n",
      "Requirement already satisfied: greenlet!=0.4.17 in c:\\users\\admin\\anaconda3\\lib\\site-packages (from sqlalchemy->pandasql) (3.0.1)\n",
      "Requirement already satisfied: six>=1.5 in c:\\users\\admin\\anaconda3\\lib\\site-packages (from python-dateutil>=2.8.2->pandas->pandasql) (1.16.0)\n",
      "Building wheels for collected packages: pandasql\n",
      "  Building wheel for pandasql (setup.py): started\n",
      "  Building wheel for pandasql (setup.py): finished with status 'done'\n",
      "  Created wheel for pandasql: filename=pandasql-0.7.3-py3-none-any.whl size=26801 sha256=bcc55ef5721ff86dedc02f0c039ec61f6aa58c6b0865a9623242bde8928f705e\n",
      "  Stored in directory: c:\\users\\admin\\appdata\\local\\pip\\cache\\wheels\\15\\a1\\e7\\6f92f295b5272ae5c02365e6b8fa19cb93f16a537090a1cf27\n",
      "Successfully built pandasql\n",
      "Installing collected packages: pandasql\n",
      "Successfully installed pandasql-0.7.3\n"
     ]
    }
   ],
   "source": [
    "!pip install pandasql"
   ]
  },
  {
   "cell_type": "code",
   "execution_count": 16,
   "id": "2550322f-3dcf-40fd-b150-9a28e8f133c9",
   "metadata": {},
   "outputs": [],
   "source": [
    "# import pandasql as sqldf"
   ]
  },
  {
   "cell_type": "code",
   "execution_count": 20,
   "id": "5e24fe53-4f58-45f3-b3a6-4686c150f81c",
   "metadata": {},
   "outputs": [
    {
     "name": "stdin",
     "output_type": "stream",
     "text": [
      "Enter sn =  7\n"
     ]
    }
   ],
   "source": [
    "#delete in sql\n",
    "sn = int(input('Enter sn = '))\n",
    "sql = f'''DELETE FROM students WHERE sn = {sn}'''\n",
    "db.execute(sql)\n",
    "database.commit()"
   ]
  },
  {
   "cell_type": "code",
   "execution_count": null,
   "id": "4b1c4b5e-df00-4e4b-89ff-173e8f897933",
   "metadata": {},
   "outputs": [],
   "source": []
  },
  {
   "cell_type": "code",
   "execution_count": null,
   "id": "315f7d58-8648-4495-8b0a-6a6ad2a2ca5c",
   "metadata": {},
   "outputs": [],
   "source": []
  },
  {
   "cell_type": "code",
   "execution_count": null,
   "id": "886fa6b3-b04c-46a6-940c-0321ba24384d",
   "metadata": {},
   "outputs": [],
   "source": []
  }
 ],
 "metadata": {
  "kernelspec": {
   "display_name": "Python [conda env:base] *",
   "language": "python",
   "name": "conda-base-py"
  },
  "language_info": {
   "codemirror_mode": {
    "name": "ipython",
    "version": 3
   },
   "file_extension": ".py",
   "mimetype": "text/x-python",
   "name": "python",
   "nbconvert_exporter": "python",
   "pygments_lexer": "ipython3",
   "version": "3.12.7"
  }
 },
 "nbformat": 4,
 "nbformat_minor": 5
}
