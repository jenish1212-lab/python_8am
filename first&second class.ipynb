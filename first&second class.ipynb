{
 "cells": [
  {
   "cell_type": "code",
   "execution_count": 2,
   "id": "a04c9363-eef6-4bd6-a35e-a1f89353e5a8",
   "metadata": {},
   "outputs": [
    {
     "name": "stdout",
     "output_type": "stream",
     "text": [
      "10\n"
     ]
    }
   ],
   "source": [
    "a=10\n",
    "print(a)"
   ]
  },
  {
   "cell_type": "code",
   "execution_count": 4,
   "id": "78546908-4522-4a71-a268-5bea2ed6e97d",
   "metadata": {},
   "outputs": [
    {
     "name": "stdout",
     "output_type": "stream",
     "text": [
      "10 10.5 Hello World True\n",
      "10\n",
      "10.5\n",
      "Hello World\n",
      "True\n"
     ]
    }
   ],
   "source": [
    "a = 10             #integer  only 0-9\n",
    "b = 10.5           #float    0-9 with . decimal\n",
    "c = 'Hello World'  #string   anything between '' or \"\"\n",
    "d = True           #boolen   only True False\n",
    "print(a,b,c,d)\n",
    "\n",
    "print (a)\n",
    "print (b)\n",
    "print (c)\n",
    "print (d)"
   ]
  },
  {
   "cell_type": "code",
   "execution_count": 5,
   "id": "766cfba8-290c-425e-a7b4-19ca32f815ea",
   "metadata": {},
   "outputs": [],
   "source": [
    "# operators in Python"
   ]
  },
  {
   "cell_type": "code",
   "execution_count": 1,
   "id": "3d8939c2-a9b7-4d46-9a45-169d15a2cfd8",
   "metadata": {},
   "outputs": [
    {
     "name": "stdout",
     "output_type": "stream",
     "text": [
      "10.5\n",
      "13\n",
      "7\n",
      "30\n",
      "3.3333333333333335\n",
      "1000\n",
      "3\n",
      "1\n"
     ]
    }
   ],
   "source": [
    "a = 10\n",
    "b = 3\n",
    "c = 2.5\n",
    "print(a+b-c)\n",
    "print(a+b)\n",
    "print(a-b)\n",
    "print(a*b)\n",
    "print(a/b)\n",
    "\n",
    "\n",
    "\n",
    "print(a**b)     #power nikalne raicha. 10 to the power 3\n",
    "print(a//b)     #whole number nikalne  \n",
    "print(a%b)      #reminder\n"
   ]
  },
  {
   "cell_type": "code",
   "execution_count": 11,
   "id": "a10dc991-7972-4c20-8d0d-65b1cd13fc35",
   "metadata": {},
   "outputs": [
    {
     "name": "stdout",
     "output_type": "stream",
     "text": [
      "HelloWorld\n"
     ]
    }
   ],
   "source": [
    "#String\n",
    "a = \"Hello\"\n",
    "b = \"World\"\n",
    "c = a + b          #concat\n",
    "print(c)"
   ]
  },
  {
   "cell_type": "code",
   "execution_count": 13,
   "id": "eecc4f50-d9c0-4571-ab2e-a6c73fefe2eb",
   "metadata": {},
   "outputs": [
    {
     "name": "stdout",
     "output_type": "stream",
     "text": [
      "Hello WorldHello World\n"
     ]
    }
   ],
   "source": [
    "a = \"Hello World\"\n",
    "print(a*2)\n",
    "                #enlargement"
   ]
  },
  {
   "cell_type": "code",
   "execution_count": 14,
   "id": "ae51dff9-9dda-484f-9ff8-69f69a1f3c81",
   "metadata": {},
   "outputs": [],
   "source": [
    "#bool"
   ]
  },
  {
   "cell_type": "code",
   "execution_count": 16,
   "id": "530fca14-20b6-43f0-a274-d1c0b27cdce2",
   "metadata": {},
   "outputs": [
    {
     "name": "stdout",
     "output_type": "stream",
     "text": [
      "1\n"
     ]
    }
   ],
   "source": [
    "a = True                    #true=1, false=0\n",
    "b = False\n",
    "c = a+b\n",
    "print(c)"
   ]
  },
  {
   "cell_type": "code",
   "execution_count": 2,
   "id": "2c6fee40-bd42-409d-bb47-3b2a6ac95397",
   "metadata": {},
   "outputs": [],
   "source": [
    " # Data Type"
   ]
  },
  {
   "cell_type": "code",
   "execution_count": 3,
   "id": "1ee45e56-d835-4e66-b9dd-2c72fec7e5b8",
   "metadata": {},
   "outputs": [],
   "source": [
    "a = 10             #integer  only 0-9\n",
    "b = 10.5           #float    0-9 with . decimal\n",
    "c = 'Hello World'  #string   anything between '' or \"\"\n",
    "d = True           #boolen   only True False\n",
    "\n"
   ]
  },
  {
   "cell_type": "code",
   "execution_count": 4,
   "id": "1fe03788-aca5-43dd-ad0b-4a6a078d4bbb",
   "metadata": {},
   "outputs": [
    {
     "name": "stdout",
     "output_type": "stream",
     "text": [
      "<class 'int'>\n",
      "<class 'float'>\n",
      "<class 'str'>\n",
      "<class 'bool'>\n"
     ]
    }
   ],
   "source": [
    "print(type(a))\n",
    "print(type(b))\n",
    "print(type(c))\n",
    "print(type(d))"
   ]
  },
  {
   "cell_type": "code",
   "execution_count": 6,
   "id": "ee032fdc-aa1f-4e6c-bdde-047ef5fdb33e",
   "metadata": {},
   "outputs": [
    {
     "name": "stdout",
     "output_type": "stream",
     "text": [
      "10.0\n"
     ]
    }
   ],
   "source": [
    "#int to float\n",
    "a = 10\n",
    "b = float(a)\n",
    "print(b)"
   ]
  },
  {
   "cell_type": "code",
   "execution_count": 7,
   "id": "524da962-3e60-42d4-89d1-effff836cc34",
   "metadata": {},
   "outputs": [
    {
     "name": "stdout",
     "output_type": "stream",
     "text": [
      "10\n"
     ]
    }
   ],
   "source": [
    "#float to int\n",
    "a = 10.5\n",
    "b = int(a)\n",
    "print(b)"
   ]
  },
  {
   "cell_type": "code",
   "execution_count": 8,
   "id": "f73d63fa-69a6-4273-8d8b-44668ffced5a",
   "metadata": {},
   "outputs": [
    {
     "name": "stdout",
     "output_type": "stream",
     "text": [
      "10\n"
     ]
    }
   ],
   "source": [
    "#int to str\n",
    "a = 10\n",
    "b = str(a)\n",
    "print(b)"
   ]
  },
  {
   "cell_type": "code",
   "execution_count": 10,
   "id": "21a54b61-5e89-42ff-90c8-6b3c93492fba",
   "metadata": {},
   "outputs": [
    {
     "name": "stdout",
     "output_type": "stream",
     "text": [
      "10.5\n"
     ]
    }
   ],
   "source": [
    "#str to float\n",
    "a = '10.5'\n",
    "b = float(a)\n",
    "print(b)"
   ]
  },
  {
   "cell_type": "code",
   "execution_count": 11,
   "id": "76eec2f8-4813-4b0f-b136-f2d2bac4541e",
   "metadata": {},
   "outputs": [
    {
     "name": "stdout",
     "output_type": "stream",
     "text": [
      "False\n"
     ]
    }
   ],
   "source": [
    "#int to bool\n",
    "a = 0\n",
    "b = bool(a)\n",
    "print(b)"
   ]
  },
  {
   "cell_type": "code",
   "execution_count": 12,
   "id": "7785ca21-7c4b-4ebd-8aab-6466fd07f79c",
   "metadata": {},
   "outputs": [
    {
     "name": "stdout",
     "output_type": "stream",
     "text": [
      "True\n"
     ]
    }
   ],
   "source": [
    "#str to bool            #except 0 & blank str, everything true\n",
    "a = '1'\n",
    "b = bool(a)\n",
    "print(b)"
   ]
  },
  {
   "cell_type": "code",
   "execution_count": 13,
   "id": "f1a76e44-0e54-48fe-8412-b627819e3da0",
   "metadata": {},
   "outputs": [],
   "source": [
    "# user defined variable"
   ]
  },
  {
   "cell_type": "code",
   "execution_count": 14,
   "id": "9fcd075e-ac02-45ea-a726-0bb69318a7ef",
   "metadata": {},
   "outputs": [
    {
     "name": "stdin",
     "output_type": "stream",
     "text": [
      " 10\n"
     ]
    },
    {
     "data": {
      "text/plain": [
       "'10'"
      ]
     },
     "execution_count": 14,
     "metadata": {},
     "output_type": "execute_result"
    }
   ],
   "source": [
    "a = input()"
   ]
  },
  {
   "cell_type": "code",
   "execution_count": 16,
   "id": "f68b829e-4b88-49a9-af36-77070e6b287b",
   "metadata": {},
   "outputs": [
    {
     "name": "stdin",
     "output_type": "stream",
     "text": [
      "Enter a =  10\n",
      "Enter b =  10\n"
     ]
    },
    {
     "name": "stdout",
     "output_type": "stream",
     "text": [
      "20\n"
     ]
    }
   ],
   "source": [
    "a = int(input('Enter a = '))\n",
    "b = int(input('Enter b = '))\n",
    "c = a+b\n",
    "print(c)"
   ]
  },
  {
   "cell_type": "code",
   "execution_count": 17,
   "id": "5e4ff95f-e152-45eb-9eb5-4d1714a66e9e",
   "metadata": {},
   "outputs": [
    {
     "name": "stdin",
     "output_type": "stream",
     "text": [
      "Enter a =  10.5\n",
      "Enter b =  10.7\n"
     ]
    },
    {
     "name": "stdout",
     "output_type": "stream",
     "text": [
      "21.2\n"
     ]
    }
   ],
   "source": [
    "a = float(input('Enter a = '))\n",
    "b = float(input('Enter b = '))\n",
    "c = a+b\n",
    "print(c)\n"
   ]
  },
  {
   "cell_type": "code",
   "execution_count": 18,
   "id": "c964a840-56ec-433e-a5b1-815ebcd7a4d8",
   "metadata": {},
   "outputs": [],
   "source": [
    "#simple interest"
   ]
  },
  {
   "cell_type": "code",
   "execution_count": 21,
   "id": "cbce3a5d-d57f-4da9-98ad-5f78f1381be4",
   "metadata": {},
   "outputs": [
    {
     "name": "stdin",
     "output_type": "stream",
     "text": [
      "Enter p =  100000\n",
      "Enter t =  2\n",
      "Enter r =  12.5\n"
     ]
    },
    {
     "name": "stdout",
     "output_type": "stream",
     "text": [
      "The value of i =  25000.0\n"
     ]
    }
   ],
   "source": [
    "p = int(input('Enter p = '))\n",
    "t = float(input('Enter t = '))\n",
    "r = float(input('Enter r = '))\n",
    "\n",
    "i=p*t*r/100\n",
    "\n",
    "print('The value of i = ', i)"
   ]
  },
  {
   "cell_type": "code",
   "execution_count": null,
   "id": "20802611-0fa7-468f-bf60-53060603a2bb",
   "metadata": {},
   "outputs": [],
   "source": [
    "# WAP to calculate area of circle"
   ]
  },
  {
   "cell_type": "code",
   "execution_count": 1,
   "id": "0d3e1346-24c0-46e0-946a-20552a793727",
   "metadata": {},
   "outputs": [
    {
     "name": "stdin",
     "output_type": "stream",
     "text": [
      "Radius =  7\n"
     ]
    },
    {
     "name": "stdout",
     "output_type": "stream",
     "text": [
      "the area of circle =  153.86\n"
     ]
    }
   ],
   "source": [
    "r = float(input('Radius = '))\n",
    "pi = 3.14\n",
    "area = pi*r**2\n",
    "\n",
    "print('the area of circle = ', area)"
   ]
  },
  {
   "cell_type": "code",
   "execution_count": 4,
   "id": "1f8b7eef-1147-48a5-84ca-cc6c6a3987b9",
   "metadata": {},
   "outputs": [
    {
     "name": "stdin",
     "output_type": "stream",
     "text": [
      "Enter physics marks =  75.4\n",
      "Enter chemistry marks =  67.5\n",
      "Enter math marks =  78.9\n",
      "Enter nepali marks =  60\n",
      "Enter english marks =  90\n"
     ]
    },
    {
     "name": "stdout",
     "output_type": "stream",
     "text": [
      "the total marks =  371.8\n",
      "the per =  74.36 %\n"
     ]
    }
   ],
   "source": [
    "p = float(input('Enter physics marks = '))\n",
    "c = float(input('Enter chemistry marks = '))\n",
    "m = float(input('Enter math marks = '))\n",
    "n = int(input('Enter nepali marks = '))\n",
    "e = int(input('Enter english marks = '))\n",
    "\n",
    "total = p+c+m+n+e\n",
    "per = total/5\n",
    "\n",
    "print('the total marks = ', total)\n",
    "print('the per = ', per, '%')"
   ]
  },
  {
   "cell_type": "code",
   "execution_count": 7,
   "id": "1cf3005f-11a4-41e7-8b70-dd44fb35429a",
   "metadata": {},
   "outputs": [
    {
     "name": "stdin",
     "output_type": "stream",
     "text": [
      "Enter physics marks =  60.5\n",
      "Enter chemistry marks =  60.5\n",
      "Enter math marks =  60.5\n",
      "Enter nepali marks =  70\n",
      "Enter english marks =  70\n"
     ]
    },
    {
     "name": "stdout",
     "output_type": "stream",
     "text": [
      "the total per =  64.3 %\n"
     ]
    }
   ],
   "source": [
    "p = float(input('Enter physics marks = '))\n",
    "c = float(input('Enter chemistry marks = '))\n",
    "m = float(input('Enter math marks = '))\n",
    "n = int(input('Enter nepali marks = '))\n",
    "e = int(input('Enter english marks = '))\n",
    "\n",
    "total_per = (p+c+m+n+e)/5\n",
    "\n",
    "\n",
    "print('the total per = ', total_per, '%')"
   ]
  },
  {
   "cell_type": "code",
   "execution_count": null,
   "id": "9ad90bbb-4813-46b9-8051-0459d7cf6bb8",
   "metadata": {},
   "outputs": [],
   "source": []
  }
 ],
 "metadata": {
  "kernelspec": {
   "display_name": "Python [conda env:base] *",
   "language": "python",
   "name": "conda-base-py"
  },
  "language_info": {
   "codemirror_mode": {
    "name": "ipython",
    "version": 3
   },
   "file_extension": ".py",
   "mimetype": "text/x-python",
   "name": "python",
   "nbconvert_exporter": "python",
   "pygments_lexer": "ipython3",
   "version": "3.12.7"
  }
 },
 "nbformat": 4,
 "nbformat_minor": 5
}
