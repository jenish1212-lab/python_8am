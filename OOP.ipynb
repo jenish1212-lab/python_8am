{
 "cells": [
  {
   "cell_type": "code",
   "execution_count": 1,
   "id": "10d9c27b-52fd-4a53-b46b-4d3fa1f97aef",
   "metadata": {},
   "outputs": [],
   "source": [
    "# CLASS SYNTAX\n",
    "# class <class_name>:\n",
    "#     <methods>\n",
    "#     <methods>\n",
    "\n",
    "# obj = <class_name>()"
   ]
  },
  {
   "cell_type": "code",
   "execution_count": 9,
   "id": "a109354b-2fd4-4769-b24d-20d1ba57a982",
   "metadata": {},
   "outputs": [
    {
     "name": "stdout",
     "output_type": "stream",
     "text": [
      "Hello World\n"
     ]
    }
   ],
   "source": [
    "class Hello:                             #class\n",
    "    def hello(self):                     #method\n",
    "        print('Hello World')\n",
    "\n",
    "obj = Hello()                            #object\n",
    "obj.hello()                              #calling method"
   ]
  },
  {
   "cell_type": "code",
   "execution_count": 10,
   "id": "6ec5a60f-d383-4eb7-bca9-0e825e06ae6d",
   "metadata": {},
   "outputs": [
    {
     "name": "stdout",
     "output_type": "stream",
     "text": [
      "Hello World\n"
     ]
    }
   ],
   "source": [
    "class Hello:\n",
    "    @staticmethod\n",
    "    def hello():\n",
    "        print('Hello World')\n",
    "\n",
    "obj = Hello()\n",
    "obj.hello()"
   ]
  },
  {
   "cell_type": "code",
   "execution_count": 8,
   "id": "aca0333e-2411-42f1-9d69-579fcf602228",
   "metadata": {},
   "outputs": [
    {
     "ename": "TypeError",
     "evalue": "Hello.hello() takes 0 positional arguments but 1 was given",
     "output_type": "error",
     "traceback": [
      "\u001b[1;31m---------------------------------------------------------------------------\u001b[0m",
      "\u001b[1;31mTypeError\u001b[0m                                 Traceback (most recent call last)",
      "Cell \u001b[1;32mIn[8], line 6\u001b[0m\n\u001b[0;32m      3\u001b[0m         \u001b[38;5;28mprint\u001b[39m(\u001b[38;5;124m'\u001b[39m\u001b[38;5;124mHello World\u001b[39m\u001b[38;5;124m'\u001b[39m)\n\u001b[0;32m      5\u001b[0m obj \u001b[38;5;241m=\u001b[39m Hello()\n\u001b[1;32m----> 6\u001b[0m obj\u001b[38;5;241m.\u001b[39mhello()\n",
      "\u001b[1;31mTypeError\u001b[0m: Hello.hello() takes 0 positional arguments but 1 was given"
     ]
    }
   ],
   "source": [
    "class Hello:\n",
    "    def hello():\n",
    "        print('Hello World')\n",
    "\n",
    "obj = Hello()\n",
    "obj.hello()"
   ]
  },
  {
   "cell_type": "code",
   "execution_count": 11,
   "id": "6ec82c1d-b448-4fa6-8958-84c600af5577",
   "metadata": {},
   "outputs": [
    {
     "name": "stdout",
     "output_type": "stream",
     "text": [
      "50\n",
      "100\n"
     ]
    }
   ],
   "source": [
    "class Cal:\n",
    "    def area(self):\n",
    "        l = 10\n",
    "        b = 5\n",
    "        a = l * b\n",
    "        print(a)\n",
    "    def volume(self):\n",
    "        l = 10\n",
    "        b = 5\n",
    "        h = 2\n",
    "        v = l*b*h\n",
    "        print(v)\n",
    "\n",
    "obj = Cal()\n",
    "obj.area()\n",
    "obj.volume()"
   ]
  },
  {
   "cell_type": "code",
   "execution_count": 14,
   "id": "02d263bb-70d6-40d8-8784-836a4421f323",
   "metadata": {},
   "outputs": [
    {
     "name": "stdout",
     "output_type": "stream",
     "text": [
      "Hello World I am Ram. I am 33 years old. I am from KTM \n"
     ]
    }
   ],
   "source": [
    "class Info:\n",
    "    def __init__(self):\n",
    "        self.name = 'Ram'\n",
    "        self.age = 33\n",
    "        self.add = 'KTM'\n",
    "        \n",
    "    def info(self):\n",
    "        data = f'Hello World I am {self.name}. I am {self.age} years old. I am from {self.add} '\n",
    "        print(data)\n",
    "        \n",
    "obj = Info()\n",
    "obj.info()\n"
   ]
  },
  {
   "cell_type": "code",
   "execution_count": 16,
   "id": "04cf6473-078b-4542-94d6-50ccffa98d22",
   "metadata": {},
   "outputs": [
    {
     "name": "stdin",
     "output_type": "stream",
     "text": [
      "Enter name =  Rameshwaram\n",
      "Enter age =  57\n",
      "Enter add =  Janakpur\n"
     ]
    },
    {
     "name": "stdout",
     "output_type": "stream",
     "text": [
      "Hello World I am Rameshwaram. I am 57 years old. I am from Janakpur \n"
     ]
    }
   ],
   "source": [
    "class Info:\n",
    "    def __init__(self,name,age,add):\n",
    "        self.name = name\n",
    "        self.age = age\n",
    "        self.add = add\n",
    "        \n",
    "    def info(self):\n",
    "        data = f'Hello World I am {self.name}. I am {self.age} years old. I am from {self.add} '\n",
    "        print(data)\n",
    "\n",
    "name = input('Enter name = ')\n",
    "age = int(input('Enter age = '))\n",
    "add = input('Enter add = ')\n",
    "\n",
    "obj = Info(name,age,add)\n",
    "obj.info()"
   ]
  },
  {
   "cell_type": "code",
   "execution_count": 19,
   "id": "48a3e8fc-fa4e-4f3a-92ca-45a960f831f1",
   "metadata": {},
   "outputs": [
    {
     "name": "stdin",
     "output_type": "stream",
     "text": [
      "Enter name =  Jagat Babu\n",
      "Enter age =  45\n",
      "Enter add =  KTM\n"
     ]
    },
    {
     "name": "stdout",
     "output_type": "stream",
     "text": [
      "Hello World I am Jagat Babu. I am 45 years old. I am from KTM \n"
     ]
    }
   ],
   "source": [
    "class Info:\n",
    "    def __init__(self,name,age):\n",
    "        self.name = name\n",
    "        self.age = age\n",
    "        \n",
    "        \n",
    "    def info(self,add):\n",
    "        data = f'Hello World I am {self.name}. I am {self.age} years old. I am from {add} '\n",
    "        print(data)\n",
    "\n",
    "name = input('Enter name = ')\n",
    "age = int(input('Enter age = '))\n",
    "add = input('Enter add = ')\n",
    "\n",
    "obj = Info(name,age)\n",
    "obj.info(add)"
   ]
  },
  {
   "cell_type": "code",
   "execution_count": 20,
   "id": "1f5ed6bd-15b5-471d-b3cb-f6bc098bb526",
   "metadata": {},
   "outputs": [
    {
     "name": "stdin",
     "output_type": "stream",
     "text": [
      "Enter name =  Harish\n",
      "Enter age =  55\n",
      "Enter add =  KTM\n"
     ]
    },
    {
     "name": "stdout",
     "output_type": "stream",
     "text": [
      "Hello World I am Harish. I am 55 years old. I am from KTM \n",
      "Hello World I am Kamala. I am 53 years old. I am from Illam \n"
     ]
    }
   ],
   "source": [
    "class Info:\n",
    "    def __init__(self,name,age,add):\n",
    "        self.name = name\n",
    "        self.age = age\n",
    "        self.add = add\n",
    "        \n",
    "    def info(self):\n",
    "        data = f'Hello World I am {self.name}. I am {self.age} years old. I am from {self.add} '\n",
    "        print(data)\n",
    "\n",
    "name = input('Enter name = ')\n",
    "age = int(input('Enter age = '))\n",
    "add = input('Enter add = ')\n",
    "\n",
    "obj = Info(name,age,add)\n",
    "obj.info()\n",
    "\n",
    "obj1 = Info('Kamala',53,'Illam')\n",
    "obj1.info()"
   ]
  },
  {
   "cell_type": "code",
   "execution_count": 9,
   "id": "9c7ff57f-7f12-49b7-b705-ffe9bbb1cc97",
   "metadata": {},
   "outputs": [
    {
     "name": "stdout",
     "output_type": "stream",
     "text": [
      "80\n",
      "560\n"
     ]
    }
   ],
   "source": [
    "class Area:\n",
    "    def __init__ (self,l,b):\n",
    "        self.l = l\n",
    "        self.b = b\n",
    "    def area(self):\n",
    "      a = self.l * self.b\n",
    "      print(a)\n",
    "\n",
    "class Volume:\n",
    "    def __init__ (self,l,b,h):\n",
    "        self.l = l\n",
    "        self.b = b\n",
    "        self.h = h\n",
    "    def volume(self):\n",
    "        v = l*b*h\n",
    "        print(v)\n",
    "l = 10\n",
    "b = 8\n",
    "h = 7\n",
    "\n",
    "obj = Area(l,b)\n",
    "obj.area()\n",
    "\n",
    "obj1 = Volume(l,b,h)\n",
    "obj1.volume()\n",
    "  "
   ]
  },
  {
   "cell_type": "code",
   "execution_count": 1,
   "id": "7da4db25-5c26-4725-972e-6bdb26336342",
   "metadata": {},
   "outputs": [
    {
     "name": "stdin",
     "output_type": "stream",
     "text": [
      "enter name =  Raymond\n",
      "enter age =  24\n",
      "enter add =  Dailekh\n"
     ]
    },
    {
     "name": "stdout",
     "output_type": "stream",
     "text": [
      "Hello world I am Raymond. I am from Dailekh. I am 24 \n"
     ]
    }
   ],
   "source": [
    "#INHERITANCE\n",
    "class Data:                              #parent class\n",
    "    def __init__(self,name,age,add):\n",
    "        self.name = name\n",
    "        self.age = age\n",
    "        self.add = add\n",
    "\n",
    "    def data(self):\n",
    "        print(self.name,self.age,self.add)\n",
    "\n",
    "class Info(Data):                        #child class\n",
    "    def info(self):\n",
    "        print(f'Hello world I am {self.name}. I am from {self.add}. I am {self.age} ')\n",
    "\n",
    "name = input('enter name = ')\n",
    "age = int(input('enter age = '))\n",
    "add = input('enter add = ')\n",
    "obj = Info(name,age,add)\n",
    "obj.info()"
   ]
  },
  {
   "cell_type": "code",
   "execution_count": 2,
   "id": "efbbb43d-6a50-4a35-b4c4-155ddb7b4692",
   "metadata": {},
   "outputs": [
    {
     "name": "stdin",
     "output_type": "stream",
     "text": [
      "enter name =  Yusef\n",
      "enter age =  32\n",
      "enter add =  Pakistan\n"
     ]
    },
    {
     "name": "stdout",
     "output_type": "stream",
     "text": [
      "Hello world I am Yusef. I am from Pakistan. I am 32 \n"
     ]
    }
   ],
   "source": [
    "class Data:                              #parent class\n",
    "    def __init__(self,add):\n",
    "        self.add = add\n",
    "\n",
    "    def data(self):\n",
    "        print(self.name,self.age,self.add)\n",
    "\n",
    "class Info(Data):                       #child class\n",
    "    def __init__(self,name,age,add):\n",
    "        self.name = name\n",
    "        self.age = age\n",
    "        Data.__init__(self,add)\n",
    "    def info(self):\n",
    "        print(f'Hello world I am {self.name}. I am from {self.add}. I am {self.age} ')\n",
    "\n",
    "name = input('enter name = ')\n",
    "age = int(input('enter age = '))\n",
    "add = input('enter add = ')\n",
    "obj = Info(name,age,add)\n",
    "obj.info()"
   ]
  },
  {
   "cell_type": "code",
   "execution_count": 10,
   "id": "cfdab90f-1eed-4277-8e52-0f1e2452cb5d",
   "metadata": {},
   "outputs": [
    {
     "name": "stdout",
     "output_type": "stream",
     "text": [
      "This is intit method 1000\n",
      "This is intit method 2000\n",
      "this is add method 3000\n",
      "This is intit method 3000\n",
      "this is str method 3000\n",
      "3000\n"
     ]
    }
   ],
   "source": [
    "#point\n",
    "class Point:\n",
    "    def __init__(self,x = 0):\n",
    "        self.x = x\n",
    "        print('This is intit method',self.x)\n",
    "    def __str__ (self):\n",
    "        print('this is str method', self.x)\n",
    "        return f'{self.x}'\n",
    "        \n",
    "\n",
    "    def __add__ (self,other):\n",
    "        x = self.x + other.x\n",
    "        print('this is add method',x)\n",
    "        return Point(x)\n",
    "\n",
    "p1 = Point(1000)\n",
    "p2 = Point(2000)\n",
    "print(p1 + p2)"
   ]
  },
  {
   "cell_type": "code",
   "execution_count": 12,
   "id": "b8541c59-55dc-4810-9c48-b807bb180eca",
   "metadata": {},
   "outputs": [
    {
     "name": "stdout",
     "output_type": "stream",
     "text": [
      "Parrot can fly\n",
      "Penguin can't fly\n"
     ]
    }
   ],
   "source": [
    "#Parrot\n",
    "class Parrot:\n",
    "    def fly(self):\n",
    "        print('Parrot can fly')\n",
    "    def swim(self):\n",
    "        print('Parrot cant swim')\n",
    "\n",
    "class Penguin:\n",
    "    def fly(self):\n",
    "        print(\"Penguin can't fly\")\n",
    "    def swim(self):\n",
    "        print(\"Penguin can swim\")\n",
    "\n",
    "#common interface\n",
    "def flying_test(bird):\n",
    "    bird.fly()\n",
    "\n",
    "#instantiate objects\n",
    "\n",
    "blu = Parrot()\n",
    "peggy = Penguin()\n",
    "\n",
    "#passing the object\n",
    "flying_test(blu)\n",
    "flying_test(peggy)"
   ]
  },
  {
   "cell_type": "code",
   "execution_count": null,
   "id": "c4a5dc0a-52e2-4e73-bd8a-f26d32ef6922",
   "metadata": {},
   "outputs": [],
   "source": []
  },
  {
   "cell_type": "code",
   "execution_count": null,
   "id": "1db27a05-5905-484e-a3ba-b543a0099074",
   "metadata": {},
   "outputs": [],
   "source": []
  }
 ],
 "metadata": {
  "kernelspec": {
   "display_name": "Python [conda env:base] *",
   "language": "python",
   "name": "conda-base-py"
  },
  "language_info": {
   "codemirror_mode": {
    "name": "ipython",
    "version": 3
   },
   "file_extension": ".py",
   "mimetype": "text/x-python",
   "name": "python",
   "nbconvert_exporter": "python",
   "pygments_lexer": "ipython3",
   "version": "3.12.7"
  }
 },
 "nbformat": 4,
 "nbformat_minor": 5
}
