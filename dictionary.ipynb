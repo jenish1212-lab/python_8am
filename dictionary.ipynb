{
 "cells": [
  {
   "cell_type": "code",
   "execution_count": 1,
   "id": "b8b5dc47-18fe-44d5-b7c9-48254f93cc6b",
   "metadata": {},
   "outputs": [],
   "source": [
    "#dictionary\n",
    "#-indexing\n",
    "#-ordered\n",
    "#-multiple and duplicate data\n",
    "#-mutable"
   ]
  },
  {
   "cell_type": "code",
   "execution_count": 2,
   "id": "b3c9f7bf-12c2-42c0-b2f3-39c38361f9cc",
   "metadata": {},
   "outputs": [
    {
     "name": "stdout",
     "output_type": "stream",
     "text": [
      "<class 'dict'>\n",
      "<class 'dict'>\n"
     ]
    }
   ],
   "source": [
    "a = {}\n",
    "b = dict()\n",
    "\n",
    "print(type(a))\n",
    "print(type(b))"
   ]
  },
  {
   "cell_type": "code",
   "execution_count": 3,
   "id": "b6be1728-1e02-47ff-85bb-4f84276a36f7",
   "metadata": {},
   "outputs": [],
   "source": [
    "# d = {<key>:<value>, <key>:<value>, <key>:<value> }"
   ]
  },
  {
   "cell_type": "code",
   "execution_count": 7,
   "id": "e331ca97-136a-4756-a95f-4d8064b60510",
   "metadata": {},
   "outputs": [
    {
     "name": "stdout",
     "output_type": "stream",
     "text": [
      "Apple\n",
      "Ball\n",
      "Cat\n"
     ]
    }
   ],
   "source": [
    "d = {'a':'Apple', 'b': 'Ball', 'c': 'Cat'}              #indexing\n",
    "print(d['a'])\n",
    "print(d['b'])\n",
    "print(d['c'])"
   ]
  },
  {
   "cell_type": "code",
   "execution_count": 9,
   "id": "020a1b7c-04e9-4adb-ba89-831e18a59f78",
   "metadata": {},
   "outputs": [
    {
     "name": "stdout",
     "output_type": "stream",
     "text": [
      "{'a': 'Apple', 'b': 'Ball', 'c': 'Cat'}\n"
     ]
    }
   ],
   "source": [
    "print(d)                                                #ordered"
   ]
  },
  {
   "cell_type": "code",
   "execution_count": 11,
   "id": "4d0c9238-8bb4-4498-a532-146a188deaa8",
   "metadata": {},
   "outputs": [
    {
     "name": "stdout",
     "output_type": "stream",
     "text": [
      "{'a': 'Apple', 'b': 'Ball', 'c': 'Cat', 'A': 'Apple'}\n"
     ]
    }
   ],
   "source": [
    "d = {'a':'Apple', 'b': 'Ball', 'c': 'Cat', 'A':'Apple'} #duplicate-value,not key         \n",
    "print(d)\n"
   ]
  },
  {
   "cell_type": "code",
   "execution_count": 13,
   "id": "95f39470-f2b3-4f94-ac78-8784ecfacf8a",
   "metadata": {},
   "outputs": [
    {
     "name": "stdout",
     "output_type": "stream",
     "text": [
      "{'a': 'Apple', 'b': 'Ball', 'c': 'Cat'}\n"
     ]
    }
   ],
   "source": [
    "#adding value on dictionary\n",
    "d = {}\n",
    "d['a'] = 'Apple'\n",
    "d['b'] = 'Ball'\n",
    "d['c'] = 'Cat'\n",
    "print(d)"
   ]
  },
  {
   "cell_type": "code",
   "execution_count": 14,
   "id": "3a3016ec-c039-4762-bfef-aa18dc293d78",
   "metadata": {},
   "outputs": [
    {
     "name": "stdout",
     "output_type": "stream",
     "text": [
      "{'a': 'Art', 'b': 'Ball', 'c': 'Cat'}\n"
     ]
    }
   ],
   "source": [
    "dic = {'a': 'Apple', 'b': 'Ball', 'c': 'Cat'}\n",
    "dic['a'] = 'Art'\n",
    "print(dic)"
   ]
  },
  {
   "cell_type": "code",
   "execution_count": 17,
   "id": "b6478de6-3687-43f1-be5c-1bc4f6f8d7a7",
   "metadata": {},
   "outputs": [
    {
     "name": "stdout",
     "output_type": "stream",
     "text": [
      "a\n",
      "b\n",
      "c\n"
     ]
    }
   ],
   "source": [
    "#dictionary on loop\n",
    "a = {'a': 'Apple', 'b': 'Ball', 'c': 'Cat'}\n",
    "for i in a:\n",
    "    print(i)"
   ]
  },
  {
   "cell_type": "code",
   "execution_count": 20,
   "id": "e52a026c-4725-4d0d-ac0f-7e55de6d9c06",
   "metadata": {},
   "outputs": [
    {
     "name": "stdout",
     "output_type": "stream",
     "text": [
      "Apple\n",
      "Ball\n",
      "Cat\n"
     ]
    }
   ],
   "source": [
    "a = {'a': 'Apple', 'b': 'Ball', 'c': 'Cat'}\n",
    "for i in a.values():\n",
    "    print(i)"
   ]
  },
  {
   "cell_type": "code",
   "execution_count": 21,
   "id": "f889bda7-3005-4e2c-8f36-2ddadc0aabae",
   "metadata": {},
   "outputs": [
    {
     "name": "stdout",
     "output_type": "stream",
     "text": [
      "('a', 'Apple')\n",
      "('b', 'Ball')\n",
      "('c', 'Cat')\n"
     ]
    }
   ],
   "source": [
    "a = {'a': 'Apple', 'b': 'Ball', 'c': 'Cat'}\n",
    "for i in a.items():\n",
    "    print(i)"
   ]
  },
  {
   "cell_type": "code",
   "execution_count": 22,
   "id": "741c05f1-538d-475e-bbf5-9036ad5a366a",
   "metadata": {},
   "outputs": [
    {
     "name": "stdout",
     "output_type": "stream",
     "text": [
      "{'a': 'Apple', 'b': 'Ball', 'c': 'Cat'}\n"
     ]
    }
   ],
   "source": [
    "l = [['a', 'Apple'], ['b', 'Ball'], ['c', 'Cat']]\n",
    "dic = dict(l)\n",
    "print(dic)\n"
   ]
  },
  {
   "cell_type": "code",
   "execution_count": 27,
   "id": "b9753846-7163-4faa-b185-8652727b924f",
   "metadata": {},
   "outputs": [
    {
     "name": "stdin",
     "output_type": "stream",
     "text": [
      "Enter n =  3\n",
      "Enter name =  ajit\n",
      "Phone =  293890128\n",
      "Enter name =  pramod\n",
      "Phone =  92380912\n",
      "Enter name =  jenish\n",
      "Phone =  02984980\n"
     ]
    },
    {
     "name": "stdout",
     "output_type": "stream",
     "text": [
      "{'ajit': '293890128', 'pramod': '92380912', 'jenish': '02984980'}\n"
     ]
    }
   ],
   "source": [
    "d = {}\n",
    "n = int(input('Enter n = '))\n",
    "for i in range(n):\n",
    "    name = input('Enter name = ')\n",
    "    phone = input('Phone = ')\n",
    "    d[name] = phone\n",
    "print(d)"
   ]
  },
  {
   "cell_type": "code",
   "execution_count": 28,
   "id": "e7cab92e-a709-4326-a3dd-a4b6db83479a",
   "metadata": {},
   "outputs": [
    {
     "data": {
      "text/plain": [
       "{'ajit': '8838383838', 'pramod': '92380912', 'jenish': '02984980'}"
      ]
     },
     "execution_count": 28,
     "metadata": {},
     "output_type": "execute_result"
    }
   ],
   "source": [
    "#update\n",
    "d = {'ajit': '293890128', 'pramod': '92380912', 'jenish': '02984980'}\n",
    "d['ajit'] = '8838383838'\n",
    "d"
   ]
  },
  {
   "cell_type": "code",
   "execution_count": 29,
   "id": "d8155bc4-e352-4c16-9e3a-a943315ec991",
   "metadata": {},
   "outputs": [],
   "source": [
    "#delete\n",
    "#del pop()"
   ]
  },
  {
   "cell_type": "code",
   "execution_count": 30,
   "id": "da112cd2-43d2-4931-bf8a-c19cd94cde21",
   "metadata": {},
   "outputs": [
    {
     "name": "stdout",
     "output_type": "stream",
     "text": [
      "{'pramod': '9809765432'}\n"
     ]
    }
   ],
   "source": [
    "d = {'ajit': '9743215678', 'pramod': '9809765432'}\n",
    "del d['ajit']\n",
    "print(d)"
   ]
  },
  {
   "cell_type": "code",
   "execution_count": 31,
   "id": "d65e899d-7c6c-4935-bf39-7c6fba9bec93",
   "metadata": {},
   "outputs": [
    {
     "name": "stdout",
     "output_type": "stream",
     "text": [
      "{'ajit': '9743215678'}\n"
     ]
    }
   ],
   "source": [
    "d = {'ajit': '9743215678', 'pramod': '9809765432'}\n",
    "d.pop('pramod')\n",
    "print(d)"
   ]
  },
  {
   "cell_type": "code",
   "execution_count": 32,
   "id": "ecf03cee-6f94-43d7-9f25-57c85a0dace5",
   "metadata": {},
   "outputs": [
    {
     "name": "stdout",
     "output_type": "stream",
     "text": [
      "{'ajit': '9743215678'}\n",
      "9809765432\n"
     ]
    }
   ],
   "source": [
    "d = {'ajit': '9743215678', 'pramod': '9809765432'}\n",
    "b = d.pop('pramod')\n",
    "print(d)\n",
    "print(b)"
   ]
  },
  {
   "cell_type": "code",
   "execution_count": 33,
   "id": "ef99870f-609f-497b-87fc-02e9d77ba0e8",
   "metadata": {},
   "outputs": [
    {
     "data": {
      "text/plain": [
       "{'Ram': [9845667654, 9808778765], 'Shyam': [9845667612, 9808887865]}"
      ]
     },
     "execution_count": 33,
     "metadata": {},
     "output_type": "execute_result"
    }
   ],
   "source": [
    "info = {'Ram':[9845667654,9808778765], 'Shyam':[9845667612,9808887865]}\n",
    "info"
   ]
  },
  {
   "cell_type": "code",
   "execution_count": 34,
   "id": "56904dfa-6a31-469b-866e-23b8ec24cd2f",
   "metadata": {},
   "outputs": [
    {
     "data": {
      "text/plain": [
       "{'name': ['Ram', 'Shyam'],\n",
       " 'NTC': [9845667654, 9845667687],\n",
       " 'Ncell': [9808778765, 9808778743]}"
      ]
     },
     "execution_count": 34,
     "metadata": {},
     "output_type": "execute_result"
    }
   ],
   "source": [
    "info = {'name':['Ram','Shyam'], 'NTC':[9845667654,9845667687], 'Ncell':[9808778765,9808778743]}\n",
    "info"
   ]
  },
  {
   "cell_type": "code",
   "execution_count": 35,
   "id": "752fb61a-2a81-4a7c-8ae6-b81a76aae22b",
   "metadata": {},
   "outputs": [
    {
     "name": "stdout",
     "output_type": "stream",
     "text": [
      "Ram\n",
      "9845667654\n",
      "9808778765\n"
     ]
    }
   ],
   "source": [
    "print(info['name'][0])\n",
    "print(info['NTC'][0])\n",
    "print(info['Ncell'][0])\n"
   ]
  },
  {
   "cell_type": "code",
   "execution_count": 37,
   "id": "b38bd990-f82e-4d1e-b5cd-00f404494199",
   "metadata": {},
   "outputs": [
    {
     "name": "stdin",
     "output_type": "stream",
     "text": [
      "Enter index =  1\n"
     ]
    },
    {
     "name": "stdout",
     "output_type": "stream",
     "text": [
      "Shyam\n",
      "9845667687\n",
      "9808778743\n"
     ]
    }
   ],
   "source": [
    "i = int(input('Enter index = '))\n",
    "print(info['name'][i])\n",
    "print(info['NTC'][i])\n",
    "print(info['Ncell'][i])"
   ]
  },
  {
   "cell_type": "code",
   "execution_count": 38,
   "id": "2217b093-1177-4b64-8de0-6b0e37350a38",
   "metadata": {},
   "outputs": [
    {
     "name": "stdin",
     "output_type": "stream",
     "text": [
      "Enter n =  2\n",
      "Enter name =  Ram\n",
      "ntc no =  9845667654\n",
      "ncell no =  9808887890\n",
      "Enter name =  Ganesh\n",
      "ntc no =  9845667656\n",
      "ncell no =  9808887863\n"
     ]
    },
    {
     "name": "stdout",
     "output_type": "stream",
     "text": [
      "{'name': ['Ram', 'Ganesh'], 'ntc': [9845667654, 9845667656], 'ncell': [9808887890, 9808887863]}\n"
     ]
    }
   ],
   "source": [
    "#read\n",
    "info = {'name':[],'ntc':[],'ncell':[]}\n",
    "n = int(input('Enter n = '))\n",
    "for i in range(n):\n",
    "    name = (input('Enter name = '))\n",
    "    ntc = int(input('ntc no = '))\n",
    "    ncell = int(input('ncell no = '))\n",
    "    info['name'].append(name)\n",
    "    info['ntc'].append(ntc)\n",
    "    info['ncell'].append(ncell)\n",
    "\n",
    "print(info)\n",
    "    \n"
   ]
  },
  {
   "cell_type": "code",
   "execution_count": 1,
   "id": "ba5aac1f-1716-4c4f-8706-203e605b98aa",
   "metadata": {},
   "outputs": [],
   "source": [
    "#WAP to take data from user and create dict inside list\n",
    "        #ALSO DO CRUD\n",
    "#WAP to take data from user and create dict inside dict\n"
   ]
  },
  {
   "cell_type": "code",
   "execution_count": null,
   "id": "eca21f29-5554-43f9-a497-365fc888ed57",
   "metadata": {},
   "outputs": [],
   "source": [
    "#info = {'name':[], 'NTC':[], 'Ncell':[]}\n",
    "#n = int(input('Enter n = '))\n",
    "#for i in range(n):\n",
    " #   name = input('Enter name = ')\n",
    "  #  NTC = int(input('NTC no = '))\n",
    "   # Ncell = int(input('Ncell no = '))\n",
    "    "
   ]
  }
 ],
 "metadata": {
  "kernelspec": {
   "display_name": "Python [conda env:base] *",
   "language": "python",
   "name": "conda-base-py"
  },
  "language_info": {
   "codemirror_mode": {
    "name": "ipython",
    "version": 3
   },
   "file_extension": ".py",
   "mimetype": "text/x-python",
   "name": "python",
   "nbconvert_exporter": "python",
   "pygments_lexer": "ipython3",
   "version": "3.12.7"
  }
 },
 "nbformat": 4,
 "nbformat_minor": 5
}
