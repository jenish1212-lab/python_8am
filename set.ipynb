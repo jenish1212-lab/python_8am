{
 "cells": [
  {
   "cell_type": "code",
   "execution_count": 1,
   "id": "f23944be-6710-490d-a9a1-983c07346f93",
   "metadata": {},
   "outputs": [],
   "source": [
    "# SET\n",
    "#~ no indexing\n",
    "#~ multiple but no duplicate\n",
    "#~ unOrdered\n",
    "#~ mutable"
   ]
  },
  {
   "cell_type": "code",
   "execution_count": 3,
   "id": "653e71e6-5837-4964-bb49-4b61c28d4921",
   "metadata": {},
   "outputs": [
    {
     "name": "stdout",
     "output_type": "stream",
     "text": [
      "<class 'set'>\n"
     ]
    }
   ],
   "source": [
    "s = set()\n",
    "print(type(s))"
   ]
  },
  {
   "cell_type": "code",
   "execution_count": 4,
   "id": "e78286bd-6b4b-4d0f-83b7-474b8e86e85d",
   "metadata": {},
   "outputs": [
    {
     "name": "stdout",
     "output_type": "stream",
     "text": [
      "{1, 2, 4, 5, 6, 7, 8, 9}\n"
     ]
    }
   ],
   "source": [
    "s = {1,2,4,5,6,7,8,9}\n",
    "print(s)"
   ]
  },
  {
   "cell_type": "code",
   "execution_count": 5,
   "id": "36edb31e-5756-4597-8f26-f8e95b460552",
   "metadata": {},
   "outputs": [
    {
     "name": "stdout",
     "output_type": "stream",
     "text": [
      "{'Cat', 'Ball', 'Fish', 'Apple', 'Dog'}\n"
     ]
    }
   ],
   "source": [
    "s = {'Apple', 'Ball', 'Cat', 'Dog', 'Fish'}\n",
    "print(s)"
   ]
  },
  {
   "cell_type": "code",
   "execution_count": 7,
   "id": "77138147-f393-47ea-927e-11187cb12ed2",
   "metadata": {},
   "outputs": [
    {
     "name": "stdout",
     "output_type": "stream",
     "text": [
      "{'Cat', 'Ball', 'Fish', 'Apple', 'Dog'}\n"
     ]
    }
   ],
   "source": [
    "s = {'Apple', 'Ball', 'Apple', 'Fish' , 'Cat', 'Dog', 'Fish'}\n",
    "print(s)"
   ]
  },
  {
   "cell_type": "code",
   "execution_count": 8,
   "id": "e988bef4-2f86-4096-aca1-790cc3d6d6e2",
   "metadata": {},
   "outputs": [
    {
     "ename": "TypeError",
     "evalue": "'set' object is not subscriptable",
     "output_type": "error",
     "traceback": [
      "\u001b[1;31m---------------------------------------------------------------------------\u001b[0m",
      "\u001b[1;31mTypeError\u001b[0m                                 Traceback (most recent call last)",
      "Cell \u001b[1;32mIn[8], line 2\u001b[0m\n\u001b[0;32m      1\u001b[0m s \u001b[38;5;241m=\u001b[39m {\u001b[38;5;124m'\u001b[39m\u001b[38;5;124mApple\u001b[39m\u001b[38;5;124m'\u001b[39m, \u001b[38;5;124m'\u001b[39m\u001b[38;5;124mBall\u001b[39m\u001b[38;5;124m'\u001b[39m, \u001b[38;5;124m'\u001b[39m\u001b[38;5;124mCat\u001b[39m\u001b[38;5;124m'\u001b[39m, \u001b[38;5;124m'\u001b[39m\u001b[38;5;124mDog\u001b[39m\u001b[38;5;124m'\u001b[39m, \u001b[38;5;124m'\u001b[39m\u001b[38;5;124mFish\u001b[39m\u001b[38;5;124m'\u001b[39m}\n\u001b[1;32m----> 2\u001b[0m s[\u001b[38;5;241m0\u001b[39m]\n",
      "\u001b[1;31mTypeError\u001b[0m: 'set' object is not subscriptable"
     ]
    }
   ],
   "source": [
    "s = {'Apple', 'Ball', 'Cat', 'Dog', 'Fish'}\n",
    "s[0]                                           #no order hence no indexing"
   ]
  },
  {
   "cell_type": "code",
   "execution_count": 10,
   "id": "447c471c-531d-455b-b0e9-d893c5aa0fca",
   "metadata": {},
   "outputs": [
    {
     "data": {
      "text/plain": [
       "dict"
      ]
     },
     "execution_count": 10,
     "metadata": {},
     "output_type": "execute_result"
    }
   ],
   "source": [
    "a = {}\n",
    "type(a)"
   ]
  },
  {
   "cell_type": "code",
   "execution_count": 13,
   "id": "37753944-0e28-4d7c-99e2-e3620d069181",
   "metadata": {},
   "outputs": [
    {
     "name": "stdout",
     "output_type": "stream",
     "text": [
      "{'Cat', 'Ball', 'Apple'}\n"
     ]
    }
   ],
   "source": [
    "#insert data into set\n",
    "s = set()\n",
    "s.add('Apple')\n",
    "s.add('Ball')\n",
    "s.add('Cat')\n",
    "print(s)"
   ]
  },
  {
   "cell_type": "code",
   "execution_count": 16,
   "id": "f738db4a-87d7-40a0-87d8-340ffe85a4f9",
   "metadata": {},
   "outputs": [
    {
     "name": "stdout",
     "output_type": "stream",
     "text": [
      "{'Cat', 'Ball', 'Apple'}\n"
     ]
    }
   ],
   "source": [
    "s = {'Apple', 'Ball', 'Cat', 'Dog', 'Fish'}\n",
    "s.remove('Dog')\n",
    "s.remove('Fish')\n",
    "print(s)"
   ]
  },
  {
   "cell_type": "code",
   "execution_count": 19,
   "id": "06ed80e1-8181-4ec9-9c61-7981f48c65ec",
   "metadata": {},
   "outputs": [],
   "source": [
    "# there is no any mutable data type inside set\n",
    "# no list inside set\n",
    "# no dict inside set\n",
    "# no set inside set"
   ]
  },
  {
   "cell_type": "code",
   "execution_count": null,
   "id": "7638a616-298d-4939-a23b-0887c2bf8eee",
   "metadata": {},
   "outputs": [],
   "source": [
    "# in {} there is no use of any operator"
   ]
  },
  {
   "cell_type": "code",
   "execution_count": 20,
   "id": "52489861-33b5-47d2-95a3-5473b669048d",
   "metadata": {},
   "outputs": [],
   "source": [
    "#update\n",
    "#union\n",
    "#intersection\n",
    "#difference"
   ]
  },
  {
   "cell_type": "code",
   "execution_count": 21,
   "id": "d7ad81f0-2b27-4749-aa63-9b7b4f5c863a",
   "metadata": {},
   "outputs": [
    {
     "name": "stdout",
     "output_type": "stream",
     "text": [
      "{1, 2, 3, 4, 5, 6, 7, 8, 9}\n"
     ]
    }
   ],
   "source": [
    "a = {1,2,3,4,5,6}\n",
    "b = {7,8,9}\n",
    "a.update(b)\n",
    "print(a)"
   ]
  },
  {
   "cell_type": "code",
   "execution_count": 2,
   "id": "4066a1b1-0408-4628-9d72-b20d5fac18da",
   "metadata": {},
   "outputs": [
    {
     "name": "stdout",
     "output_type": "stream",
     "text": [
      "Common HR =  {'Ram', 'Hari'}\n",
      "Merged HR =  {'Ashok', 'Satya', 'Steve', 'Jack', 'Ram', 'Sita', 'Hari', 'Bill', 'Nilam', 'Sujan', 'John', 'William'}\n",
      "{'xcv', 'kok'}\n"
     ]
    }
   ],
   "source": [
    "U = {'kok','xcv','Steve', 'Sita', 'Hari', 'Nilam', 'William', 'Ram', 'John', 'Jack', 'Bill', 'Satya', 'Ashok', 'Sujan'}\n",
    "ms = {'Jack','John','Bill','William','Satya','Ram','Hari'}\n",
    "apple = {'Steve','Ashok','Nilam','Sujan','Sita','Ram','Hari'}\n",
    "\n",
    "common = ms.intersection(apple)\n",
    "\n",
    "merge = ms.union(apple)\n",
    "\n",
    "print('Common HR = ',common)\n",
    "print('Merged HR = ',merge)\n",
    "\n",
    "print(U - merge)"
   ]
  },
  {
   "cell_type": "code",
   "execution_count": 27,
   "id": "b5736c8c-d60a-4043-933b-01a276ada133",
   "metadata": {},
   "outputs": [
    {
     "name": "stdout",
     "output_type": "stream",
     "text": [
      "Only MS =  {'William', 'John', 'Jack', 'Bill', 'Satya'}\n",
      "Only Apple =  {'Steve', 'Sita', 'Nilam', 'Ashok', 'Sujan'}\n"
     ]
    }
   ],
   "source": [
    "print('Only MS = ',ms-apple)                  \n",
    "\n",
    "print('Only Apple = ', apple-ms)"
   ]
  },
  {
   "cell_type": "code",
   "execution_count": 3,
   "id": "7a497274-62ba-4ef9-85f5-887622cbb681",
   "metadata": {},
   "outputs": [
    {
     "name": "stdout",
     "output_type": "stream",
     "text": [
      "{'xcv', 'kok'}\n"
     ]
    }
   ],
   "source": [
    "#unemployed people\n",
    "print(U-merge)"
   ]
  },
  {
   "cell_type": "code",
   "execution_count": 4,
   "id": "773af838-ef36-498f-883f-3c1d402973de",
   "metadata": {},
   "outputs": [],
   "source": [
    "#subset()\n",
    "#superset()\n",
    "#disjoint()"
   ]
  },
  {
   "cell_type": "code",
   "execution_count": null,
   "id": "292a14cf-dd7f-40fe-93d8-bb0c33f8d963",
   "metadata": {},
   "outputs": [],
   "source": []
  }
 ],
 "metadata": {
  "kernelspec": {
   "display_name": "Python [conda env:base] *",
   "language": "python",
   "name": "conda-base-py"
  },
  "language_info": {
   "codemirror_mode": {
    "name": "ipython",
    "version": 3
   },
   "file_extension": ".py",
   "mimetype": "text/x-python",
   "name": "python",
   "nbconvert_exporter": "python",
   "pygments_lexer": "ipython3",
   "version": "3.12.7"
  }
 },
 "nbformat": 4,
 "nbformat_minor": 5
}
